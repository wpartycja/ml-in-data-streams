{
 "cells": [
  {
   "cell_type": "code",
   "execution_count": 105,
   "id": "4e440c55",
   "metadata": {},
   "outputs": [],
   "source": [
    "import pandas as pd\n",
    "import numpy as np"
   ]
  },
  {
   "cell_type": "markdown",
   "id": "492eccb1",
   "metadata": {},
   "source": [
    "### Stock Market Dataset"
   ]
  },
  {
   "cell_type": "code",
   "execution_count": 106,
   "id": "10c7aaf4",
   "metadata": {},
   "outputs": [
    {
     "data": {
      "text/html": [
       "<div>\n",
       "<style scoped>\n",
       "    .dataframe tbody tr th:only-of-type {\n",
       "        vertical-align: middle;\n",
       "    }\n",
       "\n",
       "    .dataframe tbody tr th {\n",
       "        vertical-align: top;\n",
       "    }\n",
       "\n",
       "    .dataframe thead th {\n",
       "        text-align: right;\n",
       "    }\n",
       "</style>\n",
       "<table border=\"1\" class=\"dataframe\">\n",
       "  <thead>\n",
       "    <tr style=\"text-align: right;\">\n",
       "      <th></th>\n",
       "      <th>Date</th>\n",
       "      <th>Natural_Gas_Price</th>\n",
       "      <th>Natural_Gas_Vol.</th>\n",
       "      <th>Crude_oil_Price</th>\n",
       "      <th>Crude_oil_Vol.</th>\n",
       "      <th>Copper_Price</th>\n",
       "      <th>Copper_Vol.</th>\n",
       "      <th>Bitcoin_Price</th>\n",
       "      <th>Bitcoin_Vol.</th>\n",
       "      <th>Platinum_Price</th>\n",
       "      <th>...</th>\n",
       "      <th>Berkshire_Price</th>\n",
       "      <th>Berkshire_Vol.</th>\n",
       "      <th>Netflix_Price</th>\n",
       "      <th>Netflix_Vol.</th>\n",
       "      <th>Amazon_Price</th>\n",
       "      <th>Amazon_Vol.</th>\n",
       "      <th>Meta_Price</th>\n",
       "      <th>Meta_Vol.</th>\n",
       "      <th>Gold_Price</th>\n",
       "      <th>Gold_Vol.</th>\n",
       "    </tr>\n",
       "  </thead>\n",
       "  <tbody>\n",
       "    <tr>\n",
       "      <th>0</th>\n",
       "      <td>02-02-2024</td>\n",
       "      <td>2.079</td>\n",
       "      <td>NaN</td>\n",
       "      <td>72.28</td>\n",
       "      <td>NaN</td>\n",
       "      <td>3.8215</td>\n",
       "      <td>NaN</td>\n",
       "      <td>43,194.70</td>\n",
       "      <td>42650.0</td>\n",
       "      <td>901.6</td>\n",
       "      <td>...</td>\n",
       "      <td>5,89,498</td>\n",
       "      <td>10580.0</td>\n",
       "      <td>564.64</td>\n",
       "      <td>4030000.0</td>\n",
       "      <td>171.81</td>\n",
       "      <td>117220000.0</td>\n",
       "      <td>474.99</td>\n",
       "      <td>84710000.0</td>\n",
       "      <td>2,053.70</td>\n",
       "      <td>NaN</td>\n",
       "    </tr>\n",
       "    <tr>\n",
       "      <th>1</th>\n",
       "      <td>01-02-2024</td>\n",
       "      <td>2.050</td>\n",
       "      <td>161340.0</td>\n",
       "      <td>73.82</td>\n",
       "      <td>577940.0</td>\n",
       "      <td>3.8535</td>\n",
       "      <td>NaN</td>\n",
       "      <td>43,081.40</td>\n",
       "      <td>47690.0</td>\n",
       "      <td>922.3</td>\n",
       "      <td>...</td>\n",
       "      <td>5,81,600</td>\n",
       "      <td>9780.0</td>\n",
       "      <td>567.51</td>\n",
       "      <td>3150000.0</td>\n",
       "      <td>159.28</td>\n",
       "      <td>66360000.0</td>\n",
       "      <td>394.78</td>\n",
       "      <td>25140000.0</td>\n",
       "      <td>2,071.10</td>\n",
       "      <td>260920.0</td>\n",
       "    </tr>\n",
       "    <tr>\n",
       "      <th>2</th>\n",
       "      <td>31-01-2024</td>\n",
       "      <td>2.100</td>\n",
       "      <td>142860.0</td>\n",
       "      <td>75.85</td>\n",
       "      <td>344490.0</td>\n",
       "      <td>3.9060</td>\n",
       "      <td>NaN</td>\n",
       "      <td>42,580.50</td>\n",
       "      <td>56480.0</td>\n",
       "      <td>932.6</td>\n",
       "      <td>...</td>\n",
       "      <td>5,78,020</td>\n",
       "      <td>9720.0</td>\n",
       "      <td>564.11</td>\n",
       "      <td>4830000.0</td>\n",
       "      <td>155.20</td>\n",
       "      <td>49690000.0</td>\n",
       "      <td>390.14</td>\n",
       "      <td>20010000.0</td>\n",
       "      <td>2,067.40</td>\n",
       "      <td>238370.0</td>\n",
       "    </tr>\n",
       "    <tr>\n",
       "      <th>3</th>\n",
       "      <td>30-01-2024</td>\n",
       "      <td>2.077</td>\n",
       "      <td>139750.0</td>\n",
       "      <td>77.82</td>\n",
       "      <td>347240.0</td>\n",
       "      <td>3.9110</td>\n",
       "      <td>NaN</td>\n",
       "      <td>42,946.20</td>\n",
       "      <td>55130.0</td>\n",
       "      <td>931.7</td>\n",
       "      <td>...</td>\n",
       "      <td>5,84,680</td>\n",
       "      <td>9750.0</td>\n",
       "      <td>562.85</td>\n",
       "      <td>6120000.0</td>\n",
       "      <td>159.00</td>\n",
       "      <td>42290000.0</td>\n",
       "      <td>400.06</td>\n",
       "      <td>18610000.0</td>\n",
       "      <td>2,050.90</td>\n",
       "      <td>214590.0</td>\n",
       "    </tr>\n",
       "    <tr>\n",
       "      <th>4</th>\n",
       "      <td>29-01-2024</td>\n",
       "      <td>2.490</td>\n",
       "      <td>3590.0</td>\n",
       "      <td>76.78</td>\n",
       "      <td>331930.0</td>\n",
       "      <td>3.8790</td>\n",
       "      <td>NaN</td>\n",
       "      <td>43,299.80</td>\n",
       "      <td>45230.0</td>\n",
       "      <td>938.3</td>\n",
       "      <td>...</td>\n",
       "      <td>5,78,800</td>\n",
       "      <td>13850.0</td>\n",
       "      <td>575.79</td>\n",
       "      <td>6880000.0</td>\n",
       "      <td>161.26</td>\n",
       "      <td>42840000.0</td>\n",
       "      <td>401.02</td>\n",
       "      <td>17790000.0</td>\n",
       "      <td>2,034.90</td>\n",
       "      <td>1780.0</td>\n",
       "    </tr>\n",
       "  </tbody>\n",
       "</table>\n",
       "<p>5 rows × 38 columns</p>\n",
       "</div>"
      ],
      "text/plain": [
       "         Date  Natural_Gas_Price  Natural_Gas_Vol.  Crude_oil_Price  \\\n",
       "0  02-02-2024              2.079               NaN            72.28   \n",
       "1  01-02-2024              2.050          161340.0            73.82   \n",
       "2  31-01-2024              2.100          142860.0            75.85   \n",
       "3  30-01-2024              2.077          139750.0            77.82   \n",
       "4  29-01-2024              2.490            3590.0            76.78   \n",
       "\n",
       "   Crude_oil_Vol.  Copper_Price  Copper_Vol. Bitcoin_Price  Bitcoin_Vol.  \\\n",
       "0             NaN        3.8215          NaN     43,194.70       42650.0   \n",
       "1        577940.0        3.8535          NaN     43,081.40       47690.0   \n",
       "2        344490.0        3.9060          NaN     42,580.50       56480.0   \n",
       "3        347240.0        3.9110          NaN     42,946.20       55130.0   \n",
       "4        331930.0        3.8790          NaN     43,299.80       45230.0   \n",
       "\n",
       "  Platinum_Price  ...  Berkshire_Price Berkshire_Vol.  Netflix_Price  \\\n",
       "0          901.6  ...         5,89,498        10580.0         564.64   \n",
       "1          922.3  ...         5,81,600         9780.0         567.51   \n",
       "2          932.6  ...         5,78,020         9720.0         564.11   \n",
       "3          931.7  ...         5,84,680         9750.0         562.85   \n",
       "4          938.3  ...         5,78,800        13850.0         575.79   \n",
       "\n",
       "  Netflix_Vol. Amazon_Price  Amazon_Vol.  Meta_Price   Meta_Vol.  Gold_Price  \\\n",
       "0    4030000.0       171.81  117220000.0      474.99  84710000.0    2,053.70   \n",
       "1    3150000.0       159.28   66360000.0      394.78  25140000.0    2,071.10   \n",
       "2    4830000.0       155.20   49690000.0      390.14  20010000.0    2,067.40   \n",
       "3    6120000.0       159.00   42290000.0      400.06  18610000.0    2,050.90   \n",
       "4    6880000.0       161.26   42840000.0      401.02  17790000.0    2,034.90   \n",
       "\n",
       "   Gold_Vol.  \n",
       "0        NaN  \n",
       "1   260920.0  \n",
       "2   238370.0  \n",
       "3   214590.0  \n",
       "4     1780.0  \n",
       "\n",
       "[5 rows x 38 columns]"
      ]
     },
     "execution_count": 106,
     "metadata": {},
     "output_type": "execute_result"
    }
   ],
   "source": [
    "stock_df = pd.read_csv('./data/Stock_Market_Dataset.csv', index_col=0)\n",
    "stock_df.head()"
   ]
  },
  {
   "cell_type": "code",
   "execution_count": 107,
   "id": "74a1cad8",
   "metadata": {},
   "outputs": [
    {
     "name": "stdout",
     "output_type": "stream",
     "text": [
      "Initial number of columns: 38\n",
      "Initial number of records: 1243\n"
     ]
    }
   ],
   "source": [
    "print(f'Initial number of columns: {len(stock_df.columns)}')\n",
    "print(f'Initial number of records: {len(stock_df)}')"
   ]
  },
  {
   "cell_type": "markdown",
   "id": "626f1476",
   "metadata": {},
   "source": [
    "#### Check types"
   ]
  },
  {
   "cell_type": "code",
   "execution_count": 108,
   "id": "05e49c18",
   "metadata": {},
   "outputs": [],
   "source": [
    "types = stock_df.dtypes\n",
    "wrong_types = types[types != 'float64'].index.tolist()"
   ]
  },
  {
   "cell_type": "code",
   "execution_count": 109,
   "id": "37b0a505",
   "metadata": {},
   "outputs": [
    {
     "data": {
      "text/plain": [
       "[]"
      ]
     },
     "execution_count": 109,
     "metadata": {},
     "output_type": "execute_result"
    }
   ],
   "source": [
    "changed_cols = stock_df[wrong_types[1:]].replace(',', '', regex=True).astype('float64')\n",
    "\n",
    "types = changed_cols.dtypes\n",
    "types[types != 'float64'].index.tolist()\n"
   ]
  },
  {
   "cell_type": "code",
   "execution_count": 110,
   "id": "0fe43709",
   "metadata": {},
   "outputs": [
    {
     "data": {
      "text/plain": [
       "Index(['Bitcoin_Price', 'Platinum_Price', 'Ethereum_Price', 'S&P_500_Price',\n",
       "       'Nasdaq_100_Price', 'Berkshire_Price', 'Gold_Price'],\n",
       "      dtype='object')"
      ]
     },
     "execution_count": 110,
     "metadata": {},
     "output_type": "execute_result"
    }
   ],
   "source": [
    "changed_cols.columns"
   ]
  },
  {
   "cell_type": "code",
   "execution_count": 111,
   "id": "46f0465a",
   "metadata": {},
   "outputs": [],
   "source": [
    "for column in changed_cols.columns.tolist():\n",
    "    stock_df[column] = changed_cols[column]"
   ]
  },
  {
   "cell_type": "markdown",
   "id": "44f34aba",
   "metadata": {},
   "source": [
    "### NaN check"
   ]
  },
  {
   "cell_type": "code",
   "execution_count": 112,
   "id": "32d2c522",
   "metadata": {},
   "outputs": [
    {
     "data": {
      "text/plain": [
       "Natural_Gas_Vol.      4\n",
       "Crude_oil_Vol.       23\n",
       "Copper_Vol.          37\n",
       "Platinum_Vol.       607\n",
       "Nasdaq_100_Vol.       1\n",
       "Silver_Vol.          47\n",
       "Gold_Vol.             2\n",
       "dtype: int64"
      ]
     },
     "execution_count": 112,
     "metadata": {},
     "output_type": "execute_result"
    }
   ],
   "source": [
    "nan_count = stock_df.isna().sum()\n",
    "nan_count[nan_count > 0]"
   ]
  },
  {
   "cell_type": "code",
   "execution_count": 113,
   "id": "fb53991b",
   "metadata": {},
   "outputs": [
    {
     "data": {
      "text/plain": [
       "38"
      ]
     },
     "execution_count": 113,
     "metadata": {},
     "output_type": "execute_result"
    }
   ],
   "source": [
    "len(stock_df.columns)"
   ]
  },
  {
   "cell_type": "code",
   "execution_count": 114,
   "id": "8087bf27",
   "metadata": {},
   "outputs": [],
   "source": [
    "stock_df.drop(columns=['Platinum_Vol.'], inplace=True)"
   ]
  },
  {
   "cell_type": "code",
   "execution_count": 115,
   "id": "b6c6957e",
   "metadata": {},
   "outputs": [
    {
     "name": "stderr",
     "output_type": "stream",
     "text": [
      "/tmp/ipykernel_1177/1041853999.py:1: FutureWarning: DataFrame.interpolate with object dtype is deprecated and will raise in a future version. Call obj.infer_objects(copy=False) before interpolating instead.\n",
      "  stock_df.interpolate(inplace=True)\n"
     ]
    }
   ],
   "source": [
    "stock_df.interpolate(inplace=True)"
   ]
  },
  {
   "cell_type": "code",
   "execution_count": 116,
   "id": "1cb8e504",
   "metadata": {},
   "outputs": [
    {
     "data": {
      "text/plain": [
       "Natural_Gas_Vol.     1\n",
       "Crude_oil_Vol.       1\n",
       "Copper_Vol.         26\n",
       "Silver_Vol.          1\n",
       "Gold_Vol.            1\n",
       "dtype: int64"
      ]
     },
     "execution_count": 116,
     "metadata": {},
     "output_type": "execute_result"
    }
   ],
   "source": [
    "nan_count = stock_df.isna().sum()\n",
    "nan_count[nan_count > 0]"
   ]
  },
  {
   "cell_type": "code",
   "execution_count": 117,
   "id": "19c669fa",
   "metadata": {},
   "outputs": [],
   "source": [
    "stock_df.drop(columns=['Copper_Vol.'], inplace=True)"
   ]
  },
  {
   "cell_type": "code",
   "execution_count": 118,
   "id": "1cc54330",
   "metadata": {},
   "outputs": [
    {
     "name": "stderr",
     "output_type": "stream",
     "text": [
      "/tmp/ipykernel_1177/370668356.py:1: FutureWarning: DataFrame.fillna with 'method' is deprecated and will raise in a future version. Use obj.ffill() or obj.bfill() instead.\n",
      "  stock_df.fillna(method='bfill', inplace=True)\n"
     ]
    }
   ],
   "source": [
    "stock_df.fillna(method='bfill', inplace=True)"
   ]
  },
  {
   "cell_type": "code",
   "execution_count": 119,
   "id": "06c4dd37",
   "metadata": {},
   "outputs": [
    {
     "data": {
      "text/plain": [
       "Series([], dtype: int64)"
      ]
     },
     "execution_count": 119,
     "metadata": {},
     "output_type": "execute_result"
    }
   ],
   "source": [
    "nan_count = stock_df.isna().sum()\n",
    "nan_count[nan_count > 0]"
   ]
  },
  {
   "cell_type": "code",
   "execution_count": 120,
   "id": "10634fe7",
   "metadata": {},
   "outputs": [
    {
     "name": "stdout",
     "output_type": "stream",
     "text": [
      "Final number of columns: 36\n",
      "Final number of records: 1243\n"
     ]
    }
   ],
   "source": [
    "print(f'Final number of columns: {len(stock_df.columns)}')\n",
    "print(f'Final number of records: {len(stock_df)}')"
   ]
  },
  {
   "cell_type": "markdown",
   "id": "b78fbe64",
   "metadata": {},
   "source": [
    "### Date"
   ]
  },
  {
   "cell_type": "code",
   "execution_count": 121,
   "id": "968bc796",
   "metadata": {},
   "outputs": [],
   "source": [
    "stock_df['Date'] = pd.to_datetime(stock_df['Date'], format=\"%d-%m-%Y\")\n",
    "stock_df['Date'] = stock_df['Date'].dt.strftime('%Y-%m-%d')"
   ]
  },
  {
   "cell_type": "code",
   "execution_count": 124,
   "id": "2a6cb0d5",
   "metadata": {},
   "outputs": [],
   "source": [
    "stock_df = stock_df.sort_values(by='Date')"
   ]
  },
  {
   "cell_type": "code",
   "execution_count": 125,
   "id": "fcf38d70",
   "metadata": {},
   "outputs": [],
   "source": [
    "stock_df.to_csv('./preprocessed_data/stock_market.csv', index=False)"
   ]
  },
  {
   "cell_type": "markdown",
   "id": "1316681d",
   "metadata": {},
   "source": [
    "## Ozone dataset"
   ]
  },
  {
   "cell_type": "code",
   "execution_count": 127,
   "id": "fb49819f",
   "metadata": {},
   "outputs": [
    {
     "data": {
      "text/html": [
       "<div>\n",
       "<style scoped>\n",
       "    .dataframe tbody tr th:only-of-type {\n",
       "        vertical-align: middle;\n",
       "    }\n",
       "\n",
       "    .dataframe tbody tr th {\n",
       "        vertical-align: top;\n",
       "    }\n",
       "\n",
       "    .dataframe thead th {\n",
       "        text-align: right;\n",
       "    }\n",
       "</style>\n",
       "<table border=\"1\" class=\"dataframe\">\n",
       "  <thead>\n",
       "    <tr style=\"text-align: right;\">\n",
       "      <th></th>\n",
       "      <th>Date</th>\n",
       "      <th>WSR0</th>\n",
       "      <th>WSR1</th>\n",
       "      <th>WSR2</th>\n",
       "      <th>WSR3</th>\n",
       "      <th>WSR4</th>\n",
       "      <th>WSR5</th>\n",
       "      <th>WSR6</th>\n",
       "      <th>WSR7</th>\n",
       "      <th>WSR8</th>\n",
       "      <th>...</th>\n",
       "      <th>RH50</th>\n",
       "      <th>U50</th>\n",
       "      <th>V50</th>\n",
       "      <th>HT50</th>\n",
       "      <th>KI</th>\n",
       "      <th>TT</th>\n",
       "      <th>SLP</th>\n",
       "      <th>SLP_</th>\n",
       "      <th>Precp</th>\n",
       "      <th>Class</th>\n",
       "    </tr>\n",
       "  </thead>\n",
       "  <tbody>\n",
       "    <tr>\n",
       "      <th>0</th>\n",
       "      <td>1/2/1998</td>\n",
       "      <td>2.8</td>\n",
       "      <td>3.2</td>\n",
       "      <td>3.3</td>\n",
       "      <td>2.7</td>\n",
       "      <td>3.3</td>\n",
       "      <td>3.2</td>\n",
       "      <td>2.9</td>\n",
       "      <td>2.8</td>\n",
       "      <td>3.1</td>\n",
       "      <td>...</td>\n",
       "      <td>0.48</td>\n",
       "      <td>8.39</td>\n",
       "      <td>3.84</td>\n",
       "      <td>5805</td>\n",
       "      <td>14.05</td>\n",
       "      <td>29</td>\n",
       "      <td>10275</td>\n",
       "      <td>-55</td>\n",
       "      <td>0</td>\n",
       "      <td>0.0</td>\n",
       "    </tr>\n",
       "    <tr>\n",
       "      <th>1</th>\n",
       "      <td>1/3/1998</td>\n",
       "      <td>2.9</td>\n",
       "      <td>2.8</td>\n",
       "      <td>2.6</td>\n",
       "      <td>2.1</td>\n",
       "      <td>2.2</td>\n",
       "      <td>2.5</td>\n",
       "      <td>2.5</td>\n",
       "      <td>2.7</td>\n",
       "      <td>2.2</td>\n",
       "      <td>...</td>\n",
       "      <td>0.6</td>\n",
       "      <td>6.94</td>\n",
       "      <td>9.8</td>\n",
       "      <td>5790</td>\n",
       "      <td>17.9</td>\n",
       "      <td>41.3</td>\n",
       "      <td>10235</td>\n",
       "      <td>-40</td>\n",
       "      <td>0</td>\n",
       "      <td>0.0</td>\n",
       "    </tr>\n",
       "    <tr>\n",
       "      <th>2</th>\n",
       "      <td>1/4/1998</td>\n",
       "      <td>4.7</td>\n",
       "      <td>3.8</td>\n",
       "      <td>3.7</td>\n",
       "      <td>3.8</td>\n",
       "      <td>2.9</td>\n",
       "      <td>3.1</td>\n",
       "      <td>2.8</td>\n",
       "      <td>2.5</td>\n",
       "      <td>2.4</td>\n",
       "      <td>...</td>\n",
       "      <td>0.49</td>\n",
       "      <td>8.73</td>\n",
       "      <td>10.54</td>\n",
       "      <td>5775</td>\n",
       "      <td>31.15</td>\n",
       "      <td>51.7</td>\n",
       "      <td>10195</td>\n",
       "      <td>-40</td>\n",
       "      <td>2.08</td>\n",
       "      <td>0.0</td>\n",
       "    </tr>\n",
       "    <tr>\n",
       "      <th>3</th>\n",
       "      <td>1/5/1998</td>\n",
       "      <td>2.6</td>\n",
       "      <td>2.1</td>\n",
       "      <td>1.6</td>\n",
       "      <td>1.4</td>\n",
       "      <td>0.9</td>\n",
       "      <td>1.5</td>\n",
       "      <td>1.2</td>\n",
       "      <td>1.4</td>\n",
       "      <td>1.3</td>\n",
       "      <td>...</td>\n",
       "      <td>?</td>\n",
       "      <td>?</td>\n",
       "      <td>?</td>\n",
       "      <td>?</td>\n",
       "      <td>?</td>\n",
       "      <td>?</td>\n",
       "      <td>?</td>\n",
       "      <td>?</td>\n",
       "      <td>0.58</td>\n",
       "      <td>0.0</td>\n",
       "    </tr>\n",
       "    <tr>\n",
       "      <th>4</th>\n",
       "      <td>1/6/1998</td>\n",
       "      <td>3.1</td>\n",
       "      <td>3.5</td>\n",
       "      <td>3.3</td>\n",
       "      <td>2.5</td>\n",
       "      <td>1.6</td>\n",
       "      <td>1.7</td>\n",
       "      <td>1.6</td>\n",
       "      <td>1.6</td>\n",
       "      <td>2.3</td>\n",
       "      <td>...</td>\n",
       "      <td>0.09</td>\n",
       "      <td>11.98</td>\n",
       "      <td>11.28</td>\n",
       "      <td>5770</td>\n",
       "      <td>27.95</td>\n",
       "      <td>46.25</td>\n",
       "      <td>10120</td>\n",
       "      <td>?</td>\n",
       "      <td>5.84</td>\n",
       "      <td>0.0</td>\n",
       "    </tr>\n",
       "  </tbody>\n",
       "</table>\n",
       "<p>5 rows × 74 columns</p>\n",
       "</div>"
      ],
      "text/plain": [
       "       Date WSR0 WSR1 WSR2 WSR3 WSR4 WSR5 WSR6 WSR7 WSR8  ...  RH50    U50  \\\n",
       "0  1/2/1998  2.8  3.2  3.3  2.7  3.3  3.2  2.9  2.8  3.1  ...  0.48   8.39   \n",
       "1  1/3/1998  2.9  2.8  2.6  2.1  2.2  2.5  2.5  2.7  2.2  ...   0.6   6.94   \n",
       "2  1/4/1998  4.7  3.8  3.7  3.8  2.9  3.1  2.8  2.5  2.4  ...  0.49   8.73   \n",
       "3  1/5/1998  2.6  2.1  1.6  1.4  0.9  1.5  1.2  1.4  1.3  ...     ?      ?   \n",
       "4  1/6/1998  3.1  3.5  3.3  2.5  1.6  1.7  1.6  1.6  2.3  ...  0.09  11.98   \n",
       "\n",
       "     V50  HT50     KI     TT    SLP SLP_ Precp Class  \n",
       "0   3.84  5805  14.05     29  10275  -55     0   0.0  \n",
       "1    9.8  5790   17.9   41.3  10235  -40     0   0.0  \n",
       "2  10.54  5775  31.15   51.7  10195  -40  2.08   0.0  \n",
       "3      ?     ?      ?      ?      ?    ?  0.58   0.0  \n",
       "4  11.28  5770  27.95  46.25  10120    ?  5.84   0.0  \n",
       "\n",
       "[5 rows x 74 columns]"
      ]
     },
     "execution_count": 127,
     "metadata": {},
     "output_type": "execute_result"
    }
   ],
   "source": [
    "from ucimlrepo import fetch_ucirepo \n",
    "  \n",
    "# fetch dataset \n",
    "ozone_level_detection = fetch_ucirepo(id=172) \n",
    "column_names = ozone_level_detection.variables['name'].tolist()[1:]\n",
    "  \n",
    "ozone_df = pd.read_csv('./data/ozone/onehr.data')\n",
    "ozone_df.columns = column_names\n",
    "ozone_df.head()"
   ]
  },
  {
   "cell_type": "code",
   "execution_count": 128,
   "id": "c33ecf1a",
   "metadata": {},
   "outputs": [
    {
     "name": "stdout",
     "output_type": "stream",
     "text": [
      "Initial number of columns: 74\n",
      "Initial number of records: 2535\n"
     ]
    }
   ],
   "source": [
    "print(f'Initial number of columns: {len(ozone_df.columns)}')\n",
    "print(f'Initial number of records: {len(ozone_df)}')"
   ]
  },
  {
   "cell_type": "markdown",
   "id": "d6696533",
   "metadata": {},
   "source": [
    "### Type check"
   ]
  },
  {
   "cell_type": "code",
   "execution_count": 129,
   "id": "2a6a0159",
   "metadata": {},
   "outputs": [
    {
     "data": {
      "text/plain": [
       "Date      object\n",
       "WSR0      object\n",
       "WSR1      object\n",
       "WSR2      object\n",
       "WSR3      object\n",
       "          ...   \n",
       "TT        object\n",
       "SLP       object\n",
       "SLP_      object\n",
       "Precp     object\n",
       "Class    float64\n",
       "Length: 74, dtype: object"
      ]
     },
     "execution_count": 129,
     "metadata": {},
     "output_type": "execute_result"
    }
   ],
   "source": [
    "ozone_df.dtypes"
   ]
  },
  {
   "cell_type": "code",
   "execution_count": 130,
   "id": "c693ad4b",
   "metadata": {},
   "outputs": [
    {
     "data": {
      "text/plain": [
       "WSR0     float64\n",
       "WSR1     float64\n",
       "WSR2     float64\n",
       "WSR3     float64\n",
       "WSR4     float64\n",
       "          ...   \n",
       "TT       float64\n",
       "SLP      float64\n",
       "SLP_     float64\n",
       "Precp    float64\n",
       "Class    float64\n",
       "Length: 73, dtype: object"
      ]
     },
     "execution_count": 130,
     "metadata": {},
     "output_type": "execute_result"
    }
   ],
   "source": [
    "ozone_df = ozone_df.replace('?', np.nan)\n",
    "ozone_no_date = ozone_df[ozone_df.columns[1:]].astype('float64')\n",
    "ozone_no_date.dtypes"
   ]
  },
  {
   "cell_type": "code",
   "execution_count": 131,
   "id": "ada95601",
   "metadata": {},
   "outputs": [],
   "source": [
    "ozone_df = pd.concat([ozone_df['Date'], ozone_no_date], axis=1)"
   ]
  },
  {
   "cell_type": "markdown",
   "id": "d713923d",
   "metadata": {},
   "source": [
    "### NaN check"
   ]
  },
  {
   "cell_type": "code",
   "execution_count": 132,
   "id": "262c8627",
   "metadata": {},
   "outputs": [
    {
     "data": {
      "text/plain": [
       "WSR0     299\n",
       "WSR1     292\n",
       "WSR2     294\n",
       "WSR3     292\n",
       "WSR4     293\n",
       "        ... \n",
       "KI       136\n",
       "TT       125\n",
       "SLP       95\n",
       "SLP_     159\n",
       "Precp      2\n",
       "Length: 72, dtype: int64"
      ]
     },
     "execution_count": 132,
     "metadata": {},
     "output_type": "execute_result"
    }
   ],
   "source": [
    "nan_count = ozone_df.isna().sum()\n",
    "nan_count[nan_count > 0]"
   ]
  },
  {
   "cell_type": "code",
   "execution_count": 133,
   "id": "f3d54871",
   "metadata": {},
   "outputs": [
    {
     "name": "stderr",
     "output_type": "stream",
     "text": [
      "/tmp/ipykernel_1177/1625607060.py:1: FutureWarning: DataFrame.interpolate with object dtype is deprecated and will raise in a future version. Call obj.infer_objects(copy=False) before interpolating instead.\n",
      "  ozone_df.interpolate(inplace=True)\n"
     ]
    }
   ],
   "source": [
    "ozone_df.interpolate(inplace=True)"
   ]
  },
  {
   "cell_type": "code",
   "execution_count": 134,
   "id": "b349c0a9",
   "metadata": {},
   "outputs": [
    {
     "data": {
      "text/plain": [
       "Series([], dtype: int64)"
      ]
     },
     "execution_count": 134,
     "metadata": {},
     "output_type": "execute_result"
    }
   ],
   "source": [
    "nan_count = ozone_df.isna().sum()\n",
    "nan_count[nan_count > 0]"
   ]
  },
  {
   "cell_type": "code",
   "execution_count": 135,
   "id": "eceb0acd",
   "metadata": {},
   "outputs": [
    {
     "name": "stdout",
     "output_type": "stream",
     "text": [
      "Initial number of columns: 74\n",
      "Initial number of records: 2535\n"
     ]
    }
   ],
   "source": [
    "print(f'Initial number of columns: {len(ozone_df.columns)}')\n",
    "print(f'Initial number of records: {len(ozone_df)}')"
   ]
  },
  {
   "cell_type": "markdown",
   "id": "f4d7eae7",
   "metadata": {},
   "source": [
    "### Date"
   ]
  },
  {
   "cell_type": "code",
   "execution_count": 136,
   "id": "8cdaf2b5",
   "metadata": {},
   "outputs": [],
   "source": [
    "ozone_df['Date'] = pd.to_datetime(ozone_df['Date'])\n",
    "ozone_df['Date'] = ozone_df['Date'].dt.strftime('%Y-%m-%d')"
   ]
  },
  {
   "cell_type": "code",
   "execution_count": 138,
   "id": "8936ae3b",
   "metadata": {},
   "outputs": [],
   "source": [
    "ozone_df.to_csv('./preprocessed_data/ozone.csv', index=False)"
   ]
  }
 ],
 "metadata": {
  "kernelspec": {
   "display_name": "Python 3",
   "language": "python",
   "name": "python3"
  },
  "language_info": {
   "codemirror_mode": {
    "name": "ipython",
    "version": 3
   },
   "file_extension": ".py",
   "mimetype": "text/x-python",
   "name": "python",
   "nbconvert_exporter": "python",
   "pygments_lexer": "ipython3",
   "version": "3.10.12"
  }
 },
 "nbformat": 4,
 "nbformat_minor": 5
}
