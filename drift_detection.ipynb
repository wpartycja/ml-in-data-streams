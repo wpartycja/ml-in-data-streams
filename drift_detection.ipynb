{
 "cells": [
  {
   "cell_type": "code",
   "execution_count": 6,
   "id": "f84456f3",
   "metadata": {},
   "outputs": [],
   "source": [
    "from river import drift\n",
    "from drift_runner.utils import get_paths\n",
    "from stream_generator import FeatureImportanceChangeGenerator\n",
    "from drift_runner.drift_runner import DriftDetectionRunner\n",
    "from drift_runner.utils import plot_all_strategies\n",
    "import warnings\n",
    "warnings.filterwarnings('ignore')\n"
   ]
  },
  {
   "cell_type": "markdown",
   "id": "136fb530",
   "metadata": {},
   "source": [
    "## loop"
   ]
  },
  {
   "cell_type": "code",
   "execution_count": 7,
   "id": "a7c30fa9",
   "metadata": {},
   "outputs": [],
   "source": [
    "# drift_detectors = {\n",
    "#     'adwin': drift.ADWIN(),\n",
    "#     'kswin': drift.KSWIN()\n",
    "# }\n",
    "\n",
    "# n_histories = [1000, 2000]\n",
    "# strategies = ['all_features_no_reset', 'all_features_with_reset', 'boruta_initial_only', 'boruta_dynamic', 'alpha_dynamic']\n",
    "# feature_selectors = ['boruta', 'alpha']"
   ]
  },
  {
   "cell_type": "code",
   "execution_count": 8,
   "id": "10505405",
   "metadata": {},
   "outputs": [],
   "source": [
    "# seed = 160\n",
    "# n_features = 20\n",
    "# n_important_features = 5\n",
    "# importance_change_interval = 10"
   ]
  },
  {
   "cell_type": "code",
   "execution_count": 9,
   "id": "8bc5e110",
   "metadata": {},
   "outputs": [],
   "source": [
    "# for detector in drift_detectors:\n",
    "#     for strategy in strategies:\n",
    "#         feature_selector = strategy.split('_')[0]\n",
    "#         feature_selector = feature_selector if feature_selector in ['boruta', 'alpha'] else None\n",
    "#         if strategy in ['boruta_initial_only', 'boruta_dynamic', 'alpha_dynamic']:\n",
    "#             for n_history in n_histories:\n",
    "#                 plot_path, export_path = get_paths(detector, seed, n_history, strategy)\n",
    "                \n",
    "#                 generator = FeatureImportanceChangeGenerator(n_features=n_features, n_important_features=n_important_features, importance_change_interval=importance_change_interval, random_seed=seed)\n",
    "#                 runner = DriftDetectionRunner(generator, drift_detectors[detector], feature_selector, n_history=n_history, plot_path=plot_path, export_path=export_path, print_plot=False)\n",
    "#                 runner.run(mode=strategy)\n",
    "#         else:\n",
    "#             n_history = 1\n",
    "#             plot_path, export_path = get_paths(detector, seed, n_history, strategy)\n",
    "            \n",
    "#             generator = FeatureImportanceChangeGenerator(n_features=n_features, n_important_features=n_important_features, importance_change_interval=importance_change_interval, random_seed=seed)\n",
    "#             runner = DriftDetectionRunner(generator, drift_detectors[detector], feature_selector, n_history=n_history, plot_path=plot_path, export_path=export_path, print_plot=False)\n",
    "#             runner.run(mode=strategy)\n",
    "                "
   ]
  },
  {
   "cell_type": "markdown",
   "id": "c3ce5e82",
   "metadata": {},
   "source": [
    "## single"
   ]
  },
  {
   "cell_type": "code",
   "execution_count": 10,
   "id": "c1321dc5",
   "metadata": {},
   "outputs": [
    {
     "data": {
      "application/vnd.jupyter.widget-view+json": {
       "model_id": "18a08b181a8f492f8c1ce566c1223d3b",
       "version_major": 2,
       "version_minor": 0
      },
      "text/plain": [
       "Boruta trials:   0%|          | 0/30 [00:00<?, ?it/s]"
      ]
     },
     "metadata": {},
     "output_type": "display_data"
    },
    {
     "name": "stdout",
     "output_type": "stream",
     "text": [
      "Epoch 0, Accuracy: 0.00%\n",
      "[Sensitive] Simulated warning: sensitive ADWIN detected early drift at epoch 864\n",
      "[Main] Drift detected at index 864\n",
      "[Sensitive] Finalizing warning-phase collection. Epoch 864\n",
      "Drift detected at epoch 864 → updating features and resetting model\n"
     ]
    },
    {
     "data": {
      "application/vnd.jupyter.widget-view+json": {
       "model_id": "28dd2faa46c54deca523df24e5b017b1",
       "version_major": 2,
       "version_minor": 0
      },
      "text/plain": [
       "Boruta trials:   0%|          | 0/30 [00:00<?, ?it/s]"
      ]
     },
     "metadata": {},
     "output_type": "display_data"
    },
    {
     "name": "stdout",
     "output_type": "stream",
     "text": [
      "Epoch 1000, Accuracy: 88.29%\n",
      "[Sensitive] Simulated warning: sensitive ADWIN detected early drift at epoch 1889\n",
      "[Main] Drift detected at index 1921\n",
      "[Sensitive] Finalizing warning-phase collection. Epoch 1921\n",
      "Drift detected at epoch 1921 → updating features and resetting model\n"
     ]
    },
    {
     "data": {
      "application/vnd.jupyter.widget-view+json": {
       "model_id": "f592519fef524c468ed76eb005e18f22",
       "version_major": 2,
       "version_minor": 0
      },
      "text/plain": [
       "Boruta trials:   0%|          | 0/30 [00:00<?, ?it/s]"
      ]
     },
     "metadata": {},
     "output_type": "display_data"
    },
    {
     "name": "stdout",
     "output_type": "stream",
     "text": [
      "Epoch 2000, Accuracy: 85.99%\n",
      "[Sensitive] Simulated warning: sensitive ADWIN detected early drift at epoch 2690\n",
      "[Main] Drift detected at index 2722\n",
      "[Sensitive] Finalizing warning-phase collection. Epoch 2722\n",
      "Drift detected at epoch 2722 → updating features and resetting model\n"
     ]
    },
    {
     "data": {
      "application/vnd.jupyter.widget-view+json": {
       "model_id": "61d59981dca047b69c9ffcafc76569cc",
       "version_major": 2,
       "version_minor": 0
      },
      "text/plain": [
       "Boruta trials:   0%|          | 0/30 [00:00<?, ?it/s]"
      ]
     },
     "metadata": {},
     "output_type": "display_data"
    },
    {
     "name": "stdout",
     "output_type": "stream",
     "text": [
      "Epoch 3000, Accuracy: 79.75%\n",
      "[Sensitive] Simulated warning: sensitive ADWIN detected early drift at epoch 3171\n",
      "Epoch 4000, Accuracy: 78.08%\n",
      "[Main] Drift detected at index 4259\n",
      "[Sensitive] Finalizing warning-phase collection. Epoch 4259\n",
      "Drift detected at epoch 4259 → updating features and resetting model\n"
     ]
    },
    {
     "data": {
      "application/vnd.jupyter.widget-view+json": {
       "model_id": "79bb5a85037d477eb1e248d5450897b5",
       "version_major": 2,
       "version_minor": 0
      },
      "text/plain": [
       "Boruta trials:   0%|          | 0/30 [00:00<?, ?it/s]"
      ]
     },
     "metadata": {},
     "output_type": "display_data"
    },
    {
     "name": "stdout",
     "output_type": "stream",
     "text": [
      "[Sensitive] Simulated warning: sensitive ADWIN detected early drift at epoch 4388\n",
      "Epoch 5000, Accuracy: 78.58%\n",
      "[Main] Drift detected at index 5220\n",
      "[Sensitive] Finalizing warning-phase collection. Epoch 5220\n",
      "Drift detected at epoch 5220 → updating features and resetting model\n"
     ]
    },
    {
     "data": {
      "application/vnd.jupyter.widget-view+json": {
       "model_id": "0db58b863680474e966a0580e7acefdf",
       "version_major": 2,
       "version_minor": 0
      },
      "text/plain": [
       "Boruta trials:   0%|          | 0/30 [00:00<?, ?it/s]"
      ]
     },
     "metadata": {},
     "output_type": "display_data"
    },
    {
     "name": "stdout",
     "output_type": "stream",
     "text": [
      "[Sensitive] Simulated warning: sensitive ADWIN detected early drift at epoch 5413\n",
      "[Main] Drift detected at index 5893\n",
      "[Sensitive] Finalizing warning-phase collection. Epoch 5893\n",
      "Drift detected at epoch 5893 → updating features and resetting model\n"
     ]
    },
    {
     "data": {
      "application/vnd.jupyter.widget-view+json": {
       "model_id": "a96063404e9f4ae98678b412a0705c2b",
       "version_major": 2,
       "version_minor": 0
      },
      "text/plain": [
       "Boruta trials:   0%|          | 0/30 [00:00<?, ?it/s]"
      ]
     },
     "metadata": {},
     "output_type": "display_data"
    },
    {
     "name": "stdout",
     "output_type": "stream",
     "text": [
      "[Sensitive] Simulated warning: sensitive ADWIN detected early drift at epoch 5926\n",
      "Epoch 6000, Accuracy: 79.28%\n",
      "Epoch 7000, Accuracy: 79.02%\n",
      "[Main] Drift detected at index 7174\n",
      "[Sensitive] Finalizing warning-phase collection. Epoch 7174\n",
      "Drift detected at epoch 7174 → updating features and resetting model\n"
     ]
    },
    {
     "data": {
      "application/vnd.jupyter.widget-view+json": {
       "model_id": "df67b984e991453ebc7da33822652b5b",
       "version_major": 2,
       "version_minor": 0
      },
      "text/plain": [
       "Boruta trials:   0%|          | 0/30 [00:00<?, ?it/s]"
      ]
     },
     "metadata": {},
     "output_type": "display_data"
    },
    {
     "name": "stdout",
     "output_type": "stream",
     "text": [
      "[Main] Drift detected at index 7975\n",
      "Drift detected at epoch 7975 → updating features and resetting model\n"
     ]
    },
    {
     "data": {
      "application/vnd.jupyter.widget-view+json": {
       "model_id": "d7488e140cb34349ba7d28176519feef",
       "version_major": 2,
       "version_minor": 0
      },
      "text/plain": [
       "Boruta trials:   0%|          | 0/30 [00:00<?, ?it/s]"
      ]
     },
     "metadata": {},
     "output_type": "display_data"
    },
    {
     "name": "stdout",
     "output_type": "stream",
     "text": [
      "Epoch 8000, Accuracy: 79.13%\n",
      "[Sensitive] Simulated warning: sensitive ADWIN detected early drift at epoch 8360\n",
      "Epoch 9000, Accuracy: 79.18%\n",
      "[Main] Drift detected at index 9352\n",
      "[Sensitive] Finalizing warning-phase collection. Epoch 9352\n",
      "Drift detected at epoch 9352 → updating features and resetting model\n"
     ]
    },
    {
     "data": {
      "application/vnd.jupyter.widget-view+json": {
       "model_id": "67ed856079fd4df997b5c191f75a4bb6",
       "version_major": 2,
       "version_minor": 0
      },
      "text/plain": [
       "Boruta trials:   0%|          | 0/30 [00:00<?, ?it/s]"
      ]
     },
     "metadata": {},
     "output_type": "display_data"
    },
    {
     "name": "stdout",
     "output_type": "stream",
     "text": [
      "[Sensitive] Simulated warning: sensitive ADWIN detected early drift at epoch 9609\n",
      "\n",
      "\n",
      "           Precision   Recall   F1       Support  \n",
      "                                                  \n",
      "       0      80.52%   77.17%   78.81%      4955  \n",
      "       1      78.00%   81.26%   79.60%      4935  \n",
      "                                                  \n",
      "   Macro      79.26%   79.22%   79.20%            \n",
      "   Micro      79.21%   79.21%   79.21%            \n",
      "Weighted      79.26%   79.21%   79.20%            \n",
      "\n",
      "                 79.21% accuracy                  \n",
      "Plot saved to ./plots/adwin/160_seed/2000_window/boruta_dynamic.png\n"
     ]
    },
    {
     "data": {
      "image/png": "[encoded data removed]",
      "text/plain": [
       "<Figure size 1000x500 with 1 Axes>"
      ]
     },
     "metadata": {},
     "output_type": "display_data"
    },
    {
     "name": "stdout",
     "output_type": "stream",
     "text": [
      "Run data exported to ./logs/adwin/160_seed/2000_window/boruta_dynamic.json\n"
     ]
    }
   ],
   "source": [
    "strategy = 'boruta_dynamic'\n",
    "n_history = 2000\n",
    "seed = 160\n",
    "feature_selector = 'boruta'\n",
    "chosen_detector = 'adwin'\n",
    "\n",
    "generator = FeatureImportanceChangeGenerator(n_features=20, n_important_features=5, importance_change_interval=10, random_seed=seed)\n",
    "\n",
    "plot_path, export_path = get_paths(chosen_detector, seed, n_history, strategy)\n",
    "\n",
    "main_adwin = drift.ADWIN(delta=0.002)\n",
    "sensitive_adwin = drift.ADWIN(delta=0.02)\n",
    "\n",
    "runner = DriftDetectionRunner(\n",
    "    generator=generator,\n",
    "    drift_detector=main_adwin,\n",
    "    sensitive_drift_detector=sensitive_adwin,\n",
    "    feature_selector=feature_selector,\n",
    "    n_history=2000,\n",
    "    plot_path=plot_path,\n",
    "    export_path=export_path,\n",
    "    print_plot=True\n",
    "    \n",
    ")\n",
    "runner.run(mode=strategy)\n",
    "\n",
    "# runner = DriftDetectionRunner(generator, drift.ADWIN(), feature_selector, n_history=2000, plot_path=plot_path, export_path=export_path)\n",
    "# runner.run(mode=strategy)"
   ]
  },
  {
   "cell_type": "code",
   "execution_count": 11,
   "id": "6f8e28ff",
   "metadata": {},
   "outputs": [],
   "source": [
    "# strategies = [\n",
    "#     'all_features_no_reset',\n",
    "#     'all_features_with_reset',\n",
    "#     'boruta_initial_only',\n",
    "#     'boruta_dynamic',\n",
    "#     'alpha_dynamic'\n",
    "# ]\n",
    "\n",
    "\n",
    "\n",
    "# detector = 'adwin'\n",
    "# seed = 160\n",
    "# window = 1000\n",
    "\n",
    "\n",
    "# plot_all_strategies(detector, seed, window, strategies)"
   ]
  }
 ],
 "metadata": {
  "kernelspec": {
   "display_name": "Python 3",
   "language": "python",
   "name": "python3"
  },
  "language_info": {
   "codemirror_mode": {
    "name": "ipython",
    "version": 3
   },
   "file_extension": ".py",
   "mimetype": "text/x-python",
   "name": "python",
   "nbconvert_exporter": "python",
   "pygments_lexer": "ipython3",
   "version": "3.10.12"
  }
 },
 "nbformat": 4,
 "nbformat_minor": 5
}
