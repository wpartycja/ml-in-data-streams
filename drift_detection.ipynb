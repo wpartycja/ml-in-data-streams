{
 "cells": [
  {
   "cell_type": "code",
   "execution_count": 48,
   "id": "f84456f3",
   "metadata": {},
   "outputs": [],
   "source": [
    "from river import stream, tree, metrics\n",
    "from river.datasets import synth\n",
    "import random\n",
    "from river import drift\n",
    "import river\n",
    "import matplotlib.pyplot as plt\n",
    "import river.metrics as metrics\n",
    "import river.naive_bayes as naive_bayes\n",
    "import river.drift\n",
    "from stream_generator import FeatureImportanceChangeGenerator\n",
    "from feature_selection import run_Boruta, plot_imp_history\n",
    "import numpy as np\n",
    "import pandas as pd\n",
    "from collections import deque"
   ]
  },
  {
   "cell_type": "code",
   "execution_count": 61,
   "id": "a7c30fa9",
   "metadata": {},
   "outputs": [],
   "source": [
    "generator = FeatureImportanceChangeGenerator(n_features=20, n_important_features=5, random_seed=43, importance_change_interval=1)\n",
    "rng = random.Random(12345)\n",
    "adwin = drift.ADWIN()\n",
    "hddm_a = drift.binary.HDDM_A() # average\n",
    "hddm_w = drift.binary.HDDM_W() # weighted\n",
    "kswin = drift.KSWIN()"
   ]
  },
  {
   "cell_type": "code",
   "execution_count": 62,
   "id": "6936d9ff",
   "metadata": {},
   "outputs": [],
   "source": [
    "def plot_accuracy_with_drift(epochs, accuracies, real_drift_points, detected_drift_points):\n",
    "    plt.figure(figsize=(10, 5))\n",
    "    plt.plot(epochs, accuracies, label='Accuracy', color='blue')\n",
    "    for i, drift in enumerate(real_drift_points):\n",
    "        plt.axvline(x=drift, color='violet', linestyle='solid', \n",
    "                    label='Real Drift Occured' if i == 0 else \"\")\n",
    "    for i, drift in enumerate(detected_drift_points):\n",
    "        plt.axvline(x=drift, color='indigo', linestyle='dashed', \n",
    "                    label='Drift Detected' if i == 0 else \"\")\n",
    "    plt.xlabel(\"Epochs\")\n",
    "    plt.ylabel(\"Accuracy\")\n",
    "    plt.title(\"Accuracy Over Time with Drift Detection\")\n",
    "    plt.legend()\n",
    "    plt.show()\n",
    "\n",
    "def update_metrics(model, x, y, acc, classification_report, epoch, accuracies, epochs):\n",
    "    y_pred = model.predict_one(x)\n",
    "    model.learn_one(x, y)\n",
    "    if y_pred is not None:\n",
    "        classification_report.update(y, y_pred)\n",
    "        acc.update(y, y_pred)\n",
    "        accuracies.append(acc.get())\n",
    "        epochs.append(epoch)\n",
    "    return model, y_pred\n",
    "\n",
    "def check_drift(drift_detector, y, y_pred, epoch, print_warning):\n",
    "    drift_detector.update(y == y_pred)\n",
    "    drift_detected = drift_detector.drift_detected\n",
    "    warning_detected = getattr(drift_detector, \"warning_detected\", False)\n",
    "\n",
    "    if print_warning and warning_detected:\n",
    "        print(f\"Warning detected at index {epoch}, input value: {y}\")\n",
    "\n",
    "    if drift_detected:\n",
    "        print(f\"Drift detected at index {epoch}, input value: {y}\")\n",
    "    return drift_detected\n"
   ]
  },
  {
   "cell_type": "code",
   "execution_count": 75,
   "id": "500522e0",
   "metadata": {},
   "outputs": [],
   "source": [
    "def run_drift_detection(generator, drift_detector, boruta_samples=100, n_samples=10_000, n_history=1000, print_warning=False):\n",
    "    classification_report = metrics.ClassificationReport()\n",
    "    acc = metrics.Accuracy()\n",
    "    model = tree.HoeffdingTreeClassifier()\n",
    "\n",
    "    accuracies = []\n",
    "    detected_drift_points = []\n",
    "    epochs = []\n",
    "    \n",
    "    \n",
    "    previous_xs, previous_ys = deque(maxlen=n_history), deque(maxlen=n_history)\n",
    "    for x, y in generator.take(boruta_samples):\n",
    "        previous_xs.append(x)\n",
    "        previous_ys.append(y)\n",
    "    \n",
    "    \n",
    "    boruta_result = run_Boruta(pd.DataFrame(previous_xs), np.array(previous_ys))\n",
    "    accepted_features = list(boruta_result.accepted)\n",
    "    accepted_features.extend(list(boruta_result.tentative))\n",
    "    \n",
    "\n",
    "    for epoch, (x, y) in enumerate(generator.take(n_samples-boruta_samples)):\n",
    "        # update history\n",
    "        previous_xs.append(x)\n",
    "        previous_ys.append(y)\n",
    "        \n",
    "        # check feature importance every x epochs:\n",
    "        # if epoch % n_history == 0:\n",
    "        #     boruta_result = run_Boruta(pd.DataFrame(previous_xs), np.array(previous_ys))\n",
    "        #     accepted_features = boruta_result.accepted\n",
    "        \n",
    "        # single element prediction\n",
    "        important_xs = {key: value for key, value in x.items() if key in accepted_features}\n",
    "        model, y_pred = update_metrics(model, important_xs, y, acc, classification_report, epoch, accuracies, epochs)\n",
    "\n",
    "        # check drift on y\n",
    "        if y_pred is not None and check_drift(drift_detector, y, y_pred, epoch, print_warning):\n",
    "            boruta_result = run_Boruta(pd.DataFrame(previous_xs), np.array(previous_ys))\n",
    "            accepted_features = list(boruta_result.accepted)\n",
    "            accepted_features.extend(list(boruta_result.tentative))\n",
    "            \n",
    "            model = tree.HoeffdingTreeClassifier()\n",
    "            detected_drift_points.append(epoch)\n",
    "            \n",
    "        if epoch % 1_000 == 0:\n",
    "            print(f'Epoch {epoch}, {acc}')\n",
    "\n",
    "    print('\\n')\n",
    "    print(classification_report)\n",
    "    \n",
    "    real_drfit_points = list(generator.importance_history.keys())\n",
    "    \n",
    "    plot_accuracy_with_drift(epochs, accuracies, real_drfit_points, detected_drift_points)"
   ]
  },
  {
   "cell_type": "code",
   "execution_count": 77,
   "id": "c1321dc5",
   "metadata": {},
   "outputs": [
    {
     "data": {
      "application/vnd.jupyter.widget-view+json": {
       "model_id": "ebe344f470a04657be69817c89ac75f4",
       "version_major": 2,
       "version_minor": 0
      },
      "text/plain": [
       "Boruta trials:   0%|          | 0/30 [00:00<?, ?it/s]"
      ]
     },
     "metadata": {},
     "output_type": "display_data"
    },
    {
     "name": "stderr",
     "output_type": "stream",
     "text": [
      "/home/wpartycja/.local/lib/python3.10/site-packages/eBoruta/algorithm.py:431: FutureWarning: The behavior of DataFrame concatenation with empty or all-NA entries is deprecated. In a future version, this will no longer exclude empty or all-NA columns when determining the result dtypes. To retain the old behavior, exclude the relevant entries before the concat operation.\n",
      "  self.features_.imp_history = pd.concat(\n"
     ]
    },
    {
     "name": "stdout",
     "output_type": "stream",
     "text": [
      "Epoch 0, Accuracy: 0.00%\n",
      "Drift detected at index 252, input value: 0\n"
     ]
    },
    {
     "data": {
      "application/vnd.jupyter.widget-view+json": {
       "model_id": "c7110191a34f4bee89085c24fbfa78b3",
       "version_major": 2,
       "version_minor": 0
      },
      "text/plain": [
       "Boruta trials:   0%|          | 0/30 [00:00<?, ?it/s]"
      ]
     },
     "metadata": {},
     "output_type": "display_data"
    },
    {
     "name": "stderr",
     "output_type": "stream",
     "text": [
      "/home/wpartycja/.local/lib/python3.10/site-packages/eBoruta/algorithm.py:431: FutureWarning: The behavior of DataFrame concatenation with empty or all-NA entries is deprecated. In a future version, this will no longer exclude empty or all-NA columns when determining the result dtypes. To retain the old behavior, exclude the relevant entries before the concat operation.\n",
      "  self.features_.imp_history = pd.concat(\n"
     ]
    },
    {
     "name": "stdout",
     "output_type": "stream",
     "text": [
      "Epoch 1000, Accuracy: 91.09%\n",
      "Drift detected at index 1373, input value: 0\n"
     ]
    },
    {
     "data": {
      "application/vnd.jupyter.widget-view+json": {
       "model_id": "5065998cd2fe467492947741d83b17e3",
       "version_major": 2,
       "version_minor": 0
      },
      "text/plain": [
       "Boruta trials:   0%|          | 0/30 [00:00<?, ?it/s]"
      ]
     },
     "metadata": {},
     "output_type": "display_data"
    },
    {
     "name": "stderr",
     "output_type": "stream",
     "text": [
      "/home/wpartycja/.local/lib/python3.10/site-packages/eBoruta/algorithm.py:431: FutureWarning: The behavior of DataFrame concatenation with empty or all-NA entries is deprecated. In a future version, this will no longer exclude empty or all-NA columns when determining the result dtypes. To retain the old behavior, exclude the relevant entries before the concat operation.\n",
      "  self.features_.imp_history = pd.concat(\n"
     ]
    },
    {
     "name": "stdout",
     "output_type": "stream",
     "text": [
      "Epoch 2000, Accuracy: 90.99%\n",
      "Drift detected at index 2718, input value: 0\n"
     ]
    },
    {
     "data": {
      "application/vnd.jupyter.widget-view+json": {
       "model_id": "3071ff60c24840ce9a242a6732790d76",
       "version_major": 2,
       "version_minor": 0
      },
      "text/plain": [
       "Boruta trials:   0%|          | 0/30 [00:00<?, ?it/s]"
      ]
     },
     "metadata": {},
     "output_type": "display_data"
    },
    {
     "name": "stderr",
     "output_type": "stream",
     "text": [
      "/home/wpartycja/.local/lib/python3.10/site-packages/eBoruta/algorithm.py:431: FutureWarning: The behavior of DataFrame concatenation with empty or all-NA entries is deprecated. In a future version, this will no longer exclude empty or all-NA columns when determining the result dtypes. To retain the old behavior, exclude the relevant entries before the concat operation.\n",
      "  self.features_.imp_history = pd.concat(\n"
     ]
    },
    {
     "name": "stdout",
     "output_type": "stream",
     "text": [
      "Epoch 3000, Accuracy: 89.12%\n",
      "Drift detected at index 3903, input value: 0\n"
     ]
    },
    {
     "data": {
      "application/vnd.jupyter.widget-view+json": {
       "model_id": "96d0bafce9044f3ebc3cc6f763116633",
       "version_major": 2,
       "version_minor": 0
      },
      "text/plain": [
       "Boruta trials:   0%|          | 0/30 [00:00<?, ?it/s]"
      ]
     },
     "metadata": {},
     "output_type": "display_data"
    },
    {
     "name": "stderr",
     "output_type": "stream",
     "text": [
      "/home/wpartycja/.local/lib/python3.10/site-packages/eBoruta/algorithm.py:431: FutureWarning: The behavior of DataFrame concatenation with empty or all-NA entries is deprecated. In a future version, this will no longer exclude empty or all-NA columns when determining the result dtypes. To retain the old behavior, exclude the relevant entries before the concat operation.\n",
      "  self.features_.imp_history = pd.concat(\n"
     ]
    },
    {
     "name": "stdout",
     "output_type": "stream",
     "text": [
      "Epoch 4000, Accuracy: 86.56%\n",
      "Epoch 5000, Accuracy: 81.65%\n",
      "Epoch 6000, Accuracy: 77.54%\n",
      "Drift detected at index 6240, input value: 1\n"
     ]
    },
    {
     "data": {
      "application/vnd.jupyter.widget-view+json": {
       "model_id": "6e6a6955ee864ced93e85bb721a54ad8",
       "version_major": 2,
       "version_minor": 0
      },
      "text/plain": [
       "Boruta trials:   0%|          | 0/30 [00:00<?, ?it/s]"
      ]
     },
     "metadata": {},
     "output_type": "display_data"
    },
    {
     "name": "stderr",
     "output_type": "stream",
     "text": [
      "/home/wpartycja/.local/lib/python3.10/site-packages/eBoruta/algorithm.py:431: FutureWarning: The behavior of DataFrame concatenation with empty or all-NA entries is deprecated. In a future version, this will no longer exclude empty or all-NA columns when determining the result dtypes. To retain the old behavior, exclude the relevant entries before the concat operation.\n",
      "  self.features_.imp_history = pd.concat(\n"
     ]
    },
    {
     "name": "stdout",
     "output_type": "stream",
     "text": [
      "Epoch 7000, Accuracy: 75.71%\n",
      "Drift detected at index 7585, input value: 1\n"
     ]
    },
    {
     "data": {
      "application/vnd.jupyter.widget-view+json": {
       "model_id": "a4121440e6b141fa8a79535ed7bfd6af",
       "version_major": 2,
       "version_minor": 0
      },
      "text/plain": [
       "Boruta trials:   0%|          | 0/30 [00:00<?, ?it/s]"
      ]
     },
     "metadata": {},
     "output_type": "display_data"
    },
    {
     "name": "stderr",
     "output_type": "stream",
     "text": [
      "/home/wpartycja/.local/lib/python3.10/site-packages/eBoruta/algorithm.py:431: FutureWarning: The behavior of DataFrame concatenation with empty or all-NA entries is deprecated. In a future version, this will no longer exclude empty or all-NA columns when determining the result dtypes. To retain the old behavior, exclude the relevant entries before the concat operation.\n",
      "  self.features_.imp_history = pd.concat(\n"
     ]
    },
    {
     "name": "stdout",
     "output_type": "stream",
     "text": [
      "Drift detected at index 7938, input value: 0\n"
     ]
    },
    {
     "data": {
      "application/vnd.jupyter.widget-view+json": {
       "model_id": "8dde112d543f49bdb51f71d3b0f7947f",
       "version_major": 2,
       "version_minor": 0
      },
      "text/plain": [
       "Boruta trials:   0%|          | 0/30 [00:00<?, ?it/s]"
      ]
     },
     "metadata": {},
     "output_type": "display_data"
    },
    {
     "name": "stderr",
     "output_type": "stream",
     "text": [
      "/home/wpartycja/.local/lib/python3.10/site-packages/eBoruta/algorithm.py:431: FutureWarning: The behavior of DataFrame concatenation with empty or all-NA entries is deprecated. In a future version, this will no longer exclude empty or all-NA columns when determining the result dtypes. To retain the old behavior, exclude the relevant entries before the concat operation.\n",
      "  self.features_.imp_history = pd.concat(\n"
     ]
    },
    {
     "name": "stdout",
     "output_type": "stream",
     "text": [
      "Epoch 8000, Accuracy: 75.74%\n",
      "Epoch 9000, Accuracy: 77.58%\n",
      "Drift detected at index 9123, input value: 1\n"
     ]
    },
    {
     "data": {
      "application/vnd.jupyter.widget-view+json": {
       "model_id": "aad33f0d5615443ca9d8464fa7374d90",
       "version_major": 2,
       "version_minor": 0
      },
      "text/plain": [
       "Boruta trials:   0%|          | 0/30 [00:00<?, ?it/s]"
      ]
     },
     "metadata": {},
     "output_type": "display_data"
    },
    {
     "name": "stderr",
     "output_type": "stream",
     "text": [
      "/home/wpartycja/.local/lib/python3.10/site-packages/eBoruta/algorithm.py:431: FutureWarning: The behavior of DataFrame concatenation with empty or all-NA entries is deprecated. In a future version, this will no longer exclude empty or all-NA columns when determining the result dtypes. To retain the old behavior, exclude the relevant entries before the concat operation.\n",
      "  self.features_.imp_history = pd.concat(\n"
     ]
    },
    {
     "name": "stdout",
     "output_type": "stream",
     "text": [
      "\n",
      "\n",
      "           Precision   Recall   F1       Support  \n",
      "                                                  \n",
      "       0      77.09%   77.62%   77.36%      4982  \n",
      "       1      77.13%   76.59%   76.86%      4909  \n",
      "                                                  \n",
      "   Macro      77.11%   77.11%   77.11%            \n",
      "   Micro      77.11%   77.11%   77.11%            \n",
      "Weighted      77.11%   77.11%   77.11%            \n",
      "\n",
      "                 77.11% accuracy                  \n"
     ]
    },
    {
     "data": {
      "image/png": "[encoded data removed]",
      "text/plain": [
       "<Figure size 1000x500 with 1 Axes>"
      ]
     },
     "metadata": {},
     "output_type": "display_data"
    }
   ],
   "source": [
    "import random\n",
    "\n",
    "generator = FeatureImportanceChangeGenerator(20, 5, random_seed=random.randint(0, 300), importance_change_interval=10)\n",
    "run_drift_detection(generator, adwin)"
   ]
  },
  {
   "cell_type": "code",
   "execution_count": 74,
   "id": "39b70118",
   "metadata": {},
   "outputs": [
    {
     "data": {
      "text/plain": [
       "{1: (array([ 2,  3, 10, 17, 18]),\n",
       "  array([  0.        ,   0.        ,   2.76326827,  21.43757419,\n",
       "          -0.        ,  -0.        ,   0.        ,   0.        ,\n",
       "           0.        ,   0.        , -30.8580694 ,  -0.        ,\n",
       "           0.        ,   0.        ,  -0.        ,   0.        ,\n",
       "          -0.        , -14.8954715 ,  -6.15371563,   0.        ])),\n",
       " 1313: (array([ 8, 12, 14, 15, 19]),\n",
       "  array([ -0.        ,  -0.        ,   0.        ,  -0.        ,\n",
       "           0.        ,   0.        ,   0.        ,   0.        ,\n",
       "          14.60573559,  -0.        ,  -0.        ,  -0.        ,\n",
       "         -13.72488933,  -0.        ,  -0.60931029,  -1.80196877,\n",
       "          -0.        ,  -0.        ,  -0.        , -12.28840139])),\n",
       " 2593: (array([ 3,  7, 12, 13, 15]),\n",
       "  array([ 0.        ,  0.        , -0.        , 12.74619269, -0.        ,\n",
       "         -0.        , -0.        ,  0.03953807, -0.        ,  0.        ,\n",
       "         -0.        , -0.        , -3.6768189 , 15.50470278, -0.        ,\n",
       "         14.06956388,  0.        , -0.        , -0.        ,  0.        ])),\n",
       " 3796: (array([ 1,  5,  7, 17, 18]),\n",
       "  array([ -0.        , -24.02925279,  -0.        ,   0.        ,\n",
       "          -0.        ,  -6.33418273,  -0.        ,   4.68808912,\n",
       "          -0.        ,  -0.        ,  -0.        ,   0.        ,\n",
       "          -0.        ,   0.        ,  -0.        ,  -0.        ,\n",
       "           0.        ,   0.22702657,   3.89573349,   0.        ])),\n",
       " 4099: (array([3, 4, 5, 6, 8]),\n",
       "  array([ 0.        , -0.        , -0.        ,  1.37191117,  1.12703392,\n",
       "          3.34738324,  6.58511473, -0.        , -0.2626576 ,  0.        ,\n",
       "         -0.        , -0.        ,  0.        ,  0.        ,  0.        ,\n",
       "         -0.        , -0.        , -0.        ,  0.        ,  0.        ])),\n",
       " 5283: (array([ 0,  4,  5, 10, 11]),\n",
       "  array([ 4.35486608,  0.        ,  0.        ,  0.        , 17.81054328,\n",
       "         -2.67681935, -0.        ,  0.        , -0.        , -0.        ,\n",
       "          6.16374686, -5.65266674,  0.        ,  0.        , -0.        ,\n",
       "         -0.        , -0.        ,  0.        ,  0.        , -0.        ])),\n",
       " 6099: (array([ 1,  2,  7, 13, 18]),\n",
       "  array([ -0.        , -24.38560764,  -2.48943983,   0.        ,\n",
       "          -0.        ,   0.        ,   0.        , -32.81842178,\n",
       "          -0.        ,  -0.        ,  -0.        ,   0.        ,\n",
       "          -0.        ,   1.28244333,   0.        ,  -0.        ,\n",
       "          -0.        ,  -0.        ,  -1.0168013 ,   0.        ])),\n",
       " 7014: (array([ 5, 11, 14, 15, 18]),\n",
       "  array([  0.        ,   0.        ,   0.        ,  -0.        ,\n",
       "          -0.        ,   2.64506021,  -0.        ,  -0.        ,\n",
       "           0.        ,   0.        ,  -0.        ,  -0.04084585,\n",
       "           0.        ,   0.        ,  -2.79333633,  -7.49243939,\n",
       "           0.        ,  -0.        , -15.87899325,  -0.        ])),\n",
       " 8054: (array([ 0,  1,  5,  7, 12]),\n",
       "  array([ 0.35696976, -1.5292247 ,  0.        ,  0.        ,  0.        ,\n",
       "         -3.71708582,  0.        , -3.13978472, -0.        ,  0.        ,\n",
       "         -0.        ,  0.        , 14.93643056, -0.        , -0.        ,\n",
       "         -0.        ,  0.        ,  0.        ,  0.        ,  0.        ])),\n",
       " 9390: (array([ 4, 10, 11, 14, 17]),\n",
       "  array([  0.        ,   0.        ,   0.        ,   0.        ,\n",
       "         -11.53145677,   0.        ,   0.        ,   0.        ,\n",
       "          -0.        ,  -0.        ,  15.3106663 ,  -7.47385007,\n",
       "           0.        ,  -0.        ,   9.54408403,   0.        ,\n",
       "          -0.        ,  -1.34109457,  -0.        ,  -0.        ]))}"
      ]
     },
     "execution_count": 74,
     "metadata": {},
     "output_type": "execute_result"
    }
   ],
   "source": [
    "generator.importance_history"
   ]
  },
  {
   "cell_type": "code",
   "execution_count": null,
   "id": "d5f12840",
   "metadata": {},
   "outputs": [],
   "source": []
  }
 ],
 "metadata": {
  "kernelspec": {
   "display_name": "Python 3",
   "language": "python",
   "name": "python3"
  },
  "language_info": {
   "codemirror_mode": {
    "name": "ipython",
    "version": 3
   },
   "file_extension": ".py",
   "mimetype": "text/x-python",
   "name": "python",
   "nbconvert_exporter": "python",
   "pygments_lexer": "ipython3",
   "version": "3.10.12"
  }
 },
 "nbformat": 4,
 "nbformat_minor": 5
}
