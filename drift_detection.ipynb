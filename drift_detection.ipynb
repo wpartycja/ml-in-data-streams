{
 "cells": [
  {
   "cell_type": "code",
   "execution_count": 1,
   "id": "f84456f3",
   "metadata": {},
   "outputs": [],
   "source": [
    "from river import stream, tree, metrics\n",
    "from river.datasets import synth\n",
    "import random\n",
    "from river import drift\n",
    "import river\n",
    "import matplotlib.pyplot as plt\n",
    "import river.metrics as metrics\n",
    "import river.naive_bayes as naive_bayes\n",
    "import river.drift\n",
    "from stream_generator import FeatureImportanceChangeGenerator\n",
    "from feature_selection import run_Boruta, plot_imp_history\n",
    "import numpy as np\n",
    "import pandas as pd\n",
    "from collections import deque\n",
    "from plots import plot_accuracy_with_drift\n",
    "from drift_utils import *"
   ]
  },
  {
   "cell_type": "code",
   "execution_count": 2,
   "id": "a7c30fa9",
   "metadata": {},
   "outputs": [],
   "source": [
    "generator = FeatureImportanceChangeGenerator(n_features=20, n_important_features=5, random_seed=43, importance_change_interval=1)\n",
    "adwin = drift.ADWIN()\n",
    "kswin = drift.KSWIN()"
   ]
  },
  {
   "cell_type": "code",
   "execution_count": 3,
   "id": "c1321dc5",
   "metadata": {},
   "outputs": [
    {
     "data": {
      "application/vnd.jupyter.widget-view+json": {
       "model_id": "f877426a063645bd973a3ecbf4e07cf6",
       "version_major": 2,
       "version_minor": 0
      },
      "text/plain": [
       "Boruta trials:   0%|          | 0/30 [00:00<?, ?it/s]"
      ]
     },
     "metadata": {},
     "output_type": "display_data"
    },
    {
     "name": "stderr",
     "output_type": "stream",
     "text": [
      "/home/wpartycja/.local/lib/python3.10/site-packages/eBoruta/algorithm.py:431: FutureWarning: The behavior of DataFrame concatenation with empty or all-NA entries is deprecated. In a future version, this will no longer exclude empty or all-NA columns when determining the result dtypes. To retain the old behavior, exclude the relevant entries before the concat operation.\n",
      "  self.features_.imp_history = pd.concat(\n"
     ]
    },
    {
     "data": {
      "application/vnd.jupyter.widget-view+json": {
       "model_id": "7251291f1ea847debc0c372590efe95a",
       "version_major": 2,
       "version_minor": 0
      },
      "text/plain": [
       "Boruta trials:   0%|          | 0/30 [00:00<?, ?it/s]"
      ]
     },
     "metadata": {},
     "output_type": "display_data"
    },
    {
     "name": "stderr",
     "output_type": "stream",
     "text": [
      "/home/wpartycja/.local/lib/python3.10/site-packages/eBoruta/algorithm.py:431: FutureWarning: The behavior of DataFrame concatenation with empty or all-NA entries is deprecated. In a future version, this will no longer exclude empty or all-NA columns when determining the result dtypes. To retain the old behavior, exclude the relevant entries before the concat operation.\n",
      "  self.features_.imp_history = pd.concat(\n"
     ]
    },
    {
     "name": "stdout",
     "output_type": "stream",
     "text": [
      "Epoch 0, Accuracy: 0.00%\n",
      "Drift detected at index 864, input value: 1\n"
     ]
    },
    {
     "data": {
      "application/vnd.jupyter.widget-view+json": {
       "model_id": "a47b18c778ac4ac6bc22208b6d70d274",
       "version_major": 2,
       "version_minor": 0
      },
      "text/plain": [
       "Boruta trials:   0%|          | 0/30 [00:00<?, ?it/s]"
      ]
     },
     "metadata": {},
     "output_type": "display_data"
    },
    {
     "name": "stderr",
     "output_type": "stream",
     "text": [
      "/home/wpartycja/.local/lib/python3.10/site-packages/eBoruta/algorithm.py:431: FutureWarning: The behavior of DataFrame concatenation with empty or all-NA entries is deprecated. In a future version, this will no longer exclude empty or all-NA columns when determining the result dtypes. To retain the old behavior, exclude the relevant entries before the concat operation.\n",
      "  self.features_.imp_history = pd.concat(\n"
     ]
    },
    {
     "data": {
      "application/vnd.jupyter.widget-view+json": {
       "model_id": "4f785cf1c47f4fa3bc36f4b6bed6eeed",
       "version_major": 2,
       "version_minor": 0
      },
      "text/plain": [
       "Boruta trials:   0%|          | 0/30 [00:00<?, ?it/s]"
      ]
     },
     "metadata": {},
     "output_type": "display_data"
    },
    {
     "name": "stderr",
     "output_type": "stream",
     "text": [
      "/home/wpartycja/.local/lib/python3.10/site-packages/eBoruta/algorithm.py:431: FutureWarning: The behavior of DataFrame concatenation with empty or all-NA entries is deprecated. In a future version, this will no longer exclude empty or all-NA columns when determining the result dtypes. To retain the old behavior, exclude the relevant entries before the concat operation.\n",
      "  self.features_.imp_history = pd.concat(\n"
     ]
    },
    {
     "name": "stdout",
     "output_type": "stream",
     "text": [
      "Epoch 1000, Accuracy: 87.49%\n",
      "Drift detected at index 1921, input value: 1\n"
     ]
    },
    {
     "data": {
      "application/vnd.jupyter.widget-view+json": {
       "model_id": "e52681e736b2426c89704d7ec27746da",
       "version_major": 2,
       "version_minor": 0
      },
      "text/plain": [
       "Boruta trials:   0%|          | 0/30 [00:00<?, ?it/s]"
      ]
     },
     "metadata": {},
     "output_type": "display_data"
    },
    {
     "name": "stderr",
     "output_type": "stream",
     "text": [
      "/home/wpartycja/.local/lib/python3.10/site-packages/eBoruta/algorithm.py:431: FutureWarning: The behavior of DataFrame concatenation with empty or all-NA entries is deprecated. In a future version, this will no longer exclude empty or all-NA columns when determining the result dtypes. To retain the old behavior, exclude the relevant entries before the concat operation.\n",
      "  self.features_.imp_history = pd.concat(\n"
     ]
    },
    {
     "data": {
      "application/vnd.jupyter.widget-view+json": {
       "model_id": "e3fbf3c4b18b471e8834d332d46b3e76",
       "version_major": 2,
       "version_minor": 0
      },
      "text/plain": [
       "Boruta trials:   0%|          | 0/30 [00:00<?, ?it/s]"
      ]
     },
     "metadata": {},
     "output_type": "display_data"
    },
    {
     "name": "stderr",
     "output_type": "stream",
     "text": [
      "/home/wpartycja/.local/lib/python3.10/site-packages/eBoruta/algorithm.py:431: FutureWarning: The behavior of DataFrame concatenation with empty or all-NA entries is deprecated. In a future version, this will no longer exclude empty or all-NA columns when determining the result dtypes. To retain the old behavior, exclude the relevant entries before the concat operation.\n",
      "  self.features_.imp_history = pd.concat(\n"
     ]
    },
    {
     "name": "stdout",
     "output_type": "stream",
     "text": [
      "Epoch 2000, Accuracy: 85.24%\n"
     ]
    },
    {
     "data": {
      "application/vnd.jupyter.widget-view+json": {
       "model_id": "a408abc03c2c4514be3cbbdd839348a4",
       "version_major": 2,
       "version_minor": 0
      },
      "text/plain": [
       "Boruta trials:   0%|          | 0/30 [00:00<?, ?it/s]"
      ]
     },
     "metadata": {},
     "output_type": "display_data"
    },
    {
     "name": "stderr",
     "output_type": "stream",
     "text": [
      "/home/wpartycja/.local/lib/python3.10/site-packages/eBoruta/algorithm.py:431: FutureWarning: The behavior of DataFrame concatenation with empty or all-NA entries is deprecated. In a future version, this will no longer exclude empty or all-NA columns when determining the result dtypes. To retain the old behavior, exclude the relevant entries before the concat operation.\n",
      "  self.features_.imp_history = pd.concat(\n"
     ]
    },
    {
     "name": "stdout",
     "output_type": "stream",
     "text": [
      "Feature importance changed at epoch 3000.\n",
      "Epoch 3000, Accuracy: 75.38%\n",
      "Drift detected at index 3107, input value: 0\n"
     ]
    },
    {
     "data": {
      "application/vnd.jupyter.widget-view+json": {
       "model_id": "dd2a2068797e40b2af4ddf7337b8853d",
       "version_major": 2,
       "version_minor": 0
      },
      "text/plain": [
       "Boruta trials:   0%|          | 0/30 [00:00<?, ?it/s]"
      ]
     },
     "metadata": {},
     "output_type": "display_data"
    },
    {
     "name": "stderr",
     "output_type": "stream",
     "text": [
      "/home/wpartycja/.local/lib/python3.10/site-packages/eBoruta/algorithm.py:431: FutureWarning: The behavior of DataFrame concatenation with empty or all-NA entries is deprecated. In a future version, this will no longer exclude empty or all-NA columns when determining the result dtypes. To retain the old behavior, exclude the relevant entries before the concat operation.\n",
      "  self.features_.imp_history = pd.concat(\n"
     ]
    },
    {
     "data": {
      "application/vnd.jupyter.widget-view+json": {
       "model_id": "0cf3d33592bd4bf0ad22f471b1094321",
       "version_major": 2,
       "version_minor": 0
      },
      "text/plain": [
       "Boruta trials:   0%|          | 0/30 [00:00<?, ?it/s]"
      ]
     },
     "metadata": {},
     "output_type": "display_data"
    },
    {
     "name": "stderr",
     "output_type": "stream",
     "text": [
      "/home/wpartycja/.local/lib/python3.10/site-packages/eBoruta/algorithm.py:431: FutureWarning: The behavior of DataFrame concatenation with empty or all-NA entries is deprecated. In a future version, this will no longer exclude empty or all-NA columns when determining the result dtypes. To retain the old behavior, exclude the relevant entries before the concat operation.\n",
      "  self.features_.imp_history = pd.concat(\n"
     ]
    },
    {
     "name": "stdout",
     "output_type": "stream",
     "text": [
      "Feature importance changed at epoch 4000.\n",
      "Epoch 4000, Accuracy: 74.57%\n",
      "Drift detected at index 4645, input value: 1\n"
     ]
    },
    {
     "data": {
      "application/vnd.jupyter.widget-view+json": {
       "model_id": "2b334720bc5643cbbd3fe555300482e6",
       "version_major": 2,
       "version_minor": 0
      },
      "text/plain": [
       "Boruta trials:   0%|          | 0/30 [00:00<?, ?it/s]"
      ]
     },
     "metadata": {},
     "output_type": "display_data"
    },
    {
     "name": "stderr",
     "output_type": "stream",
     "text": [
      "/home/wpartycja/.local/lib/python3.10/site-packages/eBoruta/algorithm.py:431: FutureWarning: The behavior of DataFrame concatenation with empty or all-NA entries is deprecated. In a future version, this will no longer exclude empty or all-NA columns when determining the result dtypes. To retain the old behavior, exclude the relevant entries before the concat operation.\n",
      "  self.features_.imp_history = pd.concat(\n"
     ]
    },
    {
     "data": {
      "application/vnd.jupyter.widget-view+json": {
       "model_id": "d1d63efea05d42aaae44f8498efcbf0a",
       "version_major": 2,
       "version_minor": 0
      },
      "text/plain": [
       "Boruta trials:   0%|          | 0/30 [00:00<?, ?it/s]"
      ]
     },
     "metadata": {},
     "output_type": "display_data"
    },
    {
     "name": "stderr",
     "output_type": "stream",
     "text": [
      "/home/wpartycja/.local/lib/python3.10/site-packages/eBoruta/algorithm.py:431: FutureWarning: The behavior of DataFrame concatenation with empty or all-NA entries is deprecated. In a future version, this will no longer exclude empty or all-NA columns when determining the result dtypes. To retain the old behavior, exclude the relevant entries before the concat operation.\n",
      "  self.features_.imp_history = pd.concat(\n"
     ]
    },
    {
     "name": "stdout",
     "output_type": "stream",
     "text": [
      "Epoch 5000, Accuracy: 75.75%\n",
      "Drift detected at index 5222, input value: 1\n"
     ]
    },
    {
     "data": {
      "application/vnd.jupyter.widget-view+json": {
       "model_id": "3806b0802cdd4b6c80483219e8d51230",
       "version_major": 2,
       "version_minor": 0
      },
      "text/plain": [
       "Boruta trials:   0%|          | 0/30 [00:00<?, ?it/s]"
      ]
     },
     "metadata": {},
     "output_type": "display_data"
    },
    {
     "name": "stderr",
     "output_type": "stream",
     "text": [
      "/home/wpartycja/.local/lib/python3.10/site-packages/eBoruta/algorithm.py:431: FutureWarning: The behavior of DataFrame concatenation with empty or all-NA entries is deprecated. In a future version, this will no longer exclude empty or all-NA columns when determining the result dtypes. To retain the old behavior, exclude the relevant entries before the concat operation.\n",
      "  self.features_.imp_history = pd.concat(\n"
     ]
    },
    {
     "data": {
      "application/vnd.jupyter.widget-view+json": {
       "model_id": "bdb3e08caffe46b09d47e7b54ce1a463",
       "version_major": 2,
       "version_minor": 0
      },
      "text/plain": [
       "Boruta trials:   0%|          | 0/30 [00:00<?, ?it/s]"
      ]
     },
     "metadata": {},
     "output_type": "display_data"
    },
    {
     "name": "stderr",
     "output_type": "stream",
     "text": [
      "/home/wpartycja/.local/lib/python3.10/site-packages/eBoruta/algorithm.py:431: FutureWarning: The behavior of DataFrame concatenation with empty or all-NA entries is deprecated. In a future version, this will no longer exclude empty or all-NA columns when determining the result dtypes. To retain the old behavior, exclude the relevant entries before the concat operation.\n",
      "  self.features_.imp_history = pd.concat(\n"
     ]
    },
    {
     "name": "stdout",
     "output_type": "stream",
     "text": [
      "Feature importance changed at epoch 6000.\n",
      "Epoch 6000, Accuracy: 77.19%\n",
      "Drift detected at index 6280, input value: 0\n"
     ]
    },
    {
     "data": {
      "application/vnd.jupyter.widget-view+json": {
       "model_id": "0e08f3a8a34a4a13a4e83c41bafd5254",
       "version_major": 2,
       "version_minor": 0
      },
      "text/plain": [
       "Boruta trials:   0%|          | 0/30 [00:00<?, ?it/s]"
      ]
     },
     "metadata": {},
     "output_type": "display_data"
    },
    {
     "name": "stderr",
     "output_type": "stream",
     "text": [
      "/home/wpartycja/.local/lib/python3.10/site-packages/eBoruta/algorithm.py:431: FutureWarning: The behavior of DataFrame concatenation with empty or all-NA entries is deprecated. In a future version, this will no longer exclude empty or all-NA columns when determining the result dtypes. To retain the old behavior, exclude the relevant entries before the concat operation.\n",
      "  self.features_.imp_history = pd.concat(\n"
     ]
    },
    {
     "data": {
      "application/vnd.jupyter.widget-view+json": {
       "model_id": "47561ff1ea204488a15b571357bc94e0",
       "version_major": 2,
       "version_minor": 0
      },
      "text/plain": [
       "Boruta trials:   0%|          | 0/30 [00:00<?, ?it/s]"
      ]
     },
     "metadata": {},
     "output_type": "display_data"
    },
    {
     "name": "stderr",
     "output_type": "stream",
     "text": [
      "/home/wpartycja/.local/lib/python3.10/site-packages/eBoruta/algorithm.py:431: FutureWarning: The behavior of DataFrame concatenation with empty or all-NA entries is deprecated. In a future version, this will no longer exclude empty or all-NA columns when determining the result dtypes. To retain the old behavior, exclude the relevant entries before the concat operation.\n",
      "  self.features_.imp_history = pd.concat(\n"
     ]
    },
    {
     "name": "stdout",
     "output_type": "stream",
     "text": [
      "Feature importance changed at epoch 7000.\n",
      "Epoch 7000, Accuracy: 77.99%\n",
      "Drift detected at index 7338, input value: 1\n"
     ]
    },
    {
     "data": {
      "application/vnd.jupyter.widget-view+json": {
       "model_id": "7f24568360864c0da794dbc01f3a64a0",
       "version_major": 2,
       "version_minor": 0
      },
      "text/plain": [
       "Boruta trials:   0%|          | 0/30 [00:00<?, ?it/s]"
      ]
     },
     "metadata": {},
     "output_type": "display_data"
    },
    {
     "name": "stderr",
     "output_type": "stream",
     "text": [
      "/home/wpartycja/.local/lib/python3.10/site-packages/eBoruta/algorithm.py:431: FutureWarning: The behavior of DataFrame concatenation with empty or all-NA entries is deprecated. In a future version, this will no longer exclude empty or all-NA columns when determining the result dtypes. To retain the old behavior, exclude the relevant entries before the concat operation.\n",
      "  self.features_.imp_history = pd.concat(\n"
     ]
    },
    {
     "data": {
      "application/vnd.jupyter.widget-view+json": {
       "model_id": "7c7fe1244dc1472bbca67e9689540b23",
       "version_major": 2,
       "version_minor": 0
      },
      "text/plain": [
       "Boruta trials:   0%|          | 0/30 [00:00<?, ?it/s]"
      ]
     },
     "metadata": {},
     "output_type": "display_data"
    },
    {
     "name": "stderr",
     "output_type": "stream",
     "text": [
      "/home/wpartycja/.local/lib/python3.10/site-packages/eBoruta/algorithm.py:431: FutureWarning: The behavior of DataFrame concatenation with empty or all-NA entries is deprecated. In a future version, this will no longer exclude empty or all-NA columns when determining the result dtypes. To retain the old behavior, exclude the relevant entries before the concat operation.\n",
      "  self.features_.imp_history = pd.concat(\n"
     ]
    },
    {
     "name": "stdout",
     "output_type": "stream",
     "text": [
      "Epoch 8000, Accuracy: 77.32%\n",
      "Drift detected at index 8299, input value: 1\n"
     ]
    },
    {
     "data": {
      "application/vnd.jupyter.widget-view+json": {
       "model_id": "a979bb3b655641ab8b5808d1f5a66013",
       "version_major": 2,
       "version_minor": 0
      },
      "text/plain": [
       "Boruta trials:   0%|          | 0/30 [00:00<?, ?it/s]"
      ]
     },
     "metadata": {},
     "output_type": "display_data"
    },
    {
     "name": "stderr",
     "output_type": "stream",
     "text": [
      "/home/wpartycja/.local/lib/python3.10/site-packages/eBoruta/algorithm.py:431: FutureWarning: The behavior of DataFrame concatenation with empty or all-NA entries is deprecated. In a future version, this will no longer exclude empty or all-NA columns when determining the result dtypes. To retain the old behavior, exclude the relevant entries before the concat operation.\n",
      "  self.features_.imp_history = pd.concat(\n"
     ]
    },
    {
     "data": {
      "application/vnd.jupyter.widget-view+json": {
       "model_id": "624814ad8d964581a9b3494d0789d2a9",
       "version_major": 2,
       "version_minor": 0
      },
      "text/plain": [
       "Boruta trials:   0%|          | 0/30 [00:00<?, ?it/s]"
      ]
     },
     "metadata": {},
     "output_type": "display_data"
    },
    {
     "name": "stderr",
     "output_type": "stream",
     "text": [
      "/home/wpartycja/.local/lib/python3.10/site-packages/eBoruta/algorithm.py:431: FutureWarning: The behavior of DataFrame concatenation with empty or all-NA entries is deprecated. In a future version, this will no longer exclude empty or all-NA columns when determining the result dtypes. To retain the old behavior, exclude the relevant entries before the concat operation.\n",
      "  self.features_.imp_history = pd.concat(\n"
     ]
    },
    {
     "name": "stdout",
     "output_type": "stream",
     "text": [
      "Epoch 9000, Accuracy: 77.39%\n",
      "Drift detected at index 9292, input value: 0\n"
     ]
    },
    {
     "data": {
      "application/vnd.jupyter.widget-view+json": {
       "model_id": "7f4627c37fae4ad583dcd55390a4496f",
       "version_major": 2,
       "version_minor": 0
      },
      "text/plain": [
       "Boruta trials:   0%|          | 0/30 [00:00<?, ?it/s]"
      ]
     },
     "metadata": {},
     "output_type": "display_data"
    },
    {
     "name": "stderr",
     "output_type": "stream",
     "text": [
      "/home/wpartycja/.local/lib/python3.10/site-packages/eBoruta/algorithm.py:431: FutureWarning: The behavior of DataFrame concatenation with empty or all-NA entries is deprecated. In a future version, this will no longer exclude empty or all-NA columns when determining the result dtypes. To retain the old behavior, exclude the relevant entries before the concat operation.\n",
      "  self.features_.imp_history = pd.concat(\n"
     ]
    },
    {
     "name": "stdout",
     "output_type": "stream",
     "text": [
      "\n",
      "\n",
      "           Precision   Recall   F1       Support  \n",
      "                                                  \n",
      "       0      76.64%   78.22%   77.42%      4950  \n",
      "       1      77.70%   76.09%   76.89%      4936  \n",
      "                                                  \n",
      "   Macro      77.17%   77.16%   77.16%            \n",
      "   Micro      77.16%   77.16%   77.16%            \n",
      "Weighted      77.17%   77.16%   77.16%            \n",
      "\n",
      "                 77.16% accuracy                  \n"
     ]
    },
    {
     "data": {
      "image/png": "[encoded data removed]",
      "text/plain": [
       "<Figure size 1000x500 with 1 Axes>"
      ]
     },
     "metadata": {},
     "output_type": "display_data"
    }
   ],
   "source": [
    "import random\n",
    "\n",
    "# generator = FeatureImportanceChangeGenerator(20, 5, random_seed=random.randint(0, 300), importance_change_interval=10)\n",
    "generator = FeatureImportanceChangeGenerator(20, 5, random_seed=160, importance_change_interval=10)\n",
    "\n",
    "run_drift_detection(generator, adwin)"
   ]
  },
  {
   "cell_type": "code",
   "execution_count": 4,
   "id": "d5f12840",
   "metadata": {},
   "outputs": [
    {
     "data": {
      "text/plain": [
       "160"
      ]
     },
     "execution_count": 4,
     "metadata": {},
     "output_type": "execute_result"
    }
   ],
   "source": [
    "generator.random_seed"
   ]
  },
  {
   "cell_type": "code",
   "execution_count": null,
   "id": "6f8e28ff",
   "metadata": {},
   "outputs": [],
   "source": []
  }
 ],
 "metadata": {
  "kernelspec": {
   "display_name": "Python 3",
   "language": "python",
   "name": "python3"
  },
  "language_info": {
   "codemirror_mode": {
    "name": "ipython",
    "version": 3
   },
   "file_extension": ".py",
   "mimetype": "text/x-python",
   "name": "python",
   "nbconvert_exporter": "python",
   "pygments_lexer": "ipython3",
   "version": "3.10.12"
  }
 },
 "nbformat": 4,
 "nbformat_minor": 5
}
