{
 "cells": [
  {
   "cell_type": "code",
   "execution_count": 11,
   "id": "f84456f3",
   "metadata": {},
   "outputs": [],
   "source": [
    "from river import stream, tree, metrics\n",
    "from river.datasets import synth\n",
    "import random\n",
    "from river import drift\n",
    "import river\n",
    "import matplotlib.pyplot as plt\n",
    "import river.metrics as metrics\n",
    "import river.naive_bayes as naive_bayes\n",
    "import river.drift\n",
    "from stream_generator import FeatureImportanceChangeGenerator\n",
    "from feature_selection import run_Boruta, plot_imp_history\n",
    "import numpy as np\n",
    "import pandas as pd\n",
    "from collections import deque"
   ]
  },
  {
   "cell_type": "code",
   "execution_count": 12,
   "id": "a7c30fa9",
   "metadata": {},
   "outputs": [],
   "source": [
    "generator = FeatureImportanceChangeGenerator(n_features=20, n_important_features=5, random_seed=43, importance_change_interval=1)\n",
    "rng = random.Random(12345)\n",
    "adwin = drift.ADWIN()\n",
    "hddm_a = drift.binary.HDDM_A() # average\n",
    "hddm_w = drift.binary.HDDM_W() # weighted\n",
    "kswin = drift.KSWIN()"
   ]
  },
  {
   "cell_type": "code",
   "execution_count": 13,
   "id": "6936d9ff",
   "metadata": {},
   "outputs": [],
   "source": [
    "def plot_accuracy_with_drift(epochs, accuracies, real_drift_points, detected_drift_points, regular_change_points):\n",
    "    plt.figure(figsize=(10, 5))\n",
    "    plt.plot(epochs, accuracies, label='Accuracy', color='blue')\n",
    "    for i, drift in enumerate(real_drift_points):\n",
    "        plt.axvline(x=drift, color='violet', linestyle='solid',\n",
    "                    label='Real Drift Occured' if i == 0 else \"\")\n",
    "    for i, drift in enumerate(detected_drift_points):\n",
    "        plt.axvline(x=drift, color='indigo', linestyle='dashed',\n",
    "                    label='Drift Detected' if i == 0 else \"\")\n",
    "    for i, drift in enumerate(regular_change_points):\n",
    "        plt.axvline(x=drift, color='lightgreen', linestyle='dashed',\n",
    "                    label='Drift Detected' if i == 0 else \"\")\n",
    "    plt.xlabel(\"Epochs\")\n",
    "    plt.ylabel(\"Accuracy\")\n",
    "    plt.title(\"Accuracy Over Time with Drift Detection\")\n",
    "    plt.legend()\n",
    "    plt.show()\n",
    "\n",
    "def update_metrics(model, x, y, acc, classification_report, epoch, accuracies, epochs):\n",
    "    y_pred = model.predict_one(x)\n",
    "    model.learn_one(x, y)\n",
    "    if y_pred is not None:\n",
    "        classification_report.update(y, y_pred)\n",
    "        acc.update(y, y_pred)\n",
    "        accuracies.append(acc.get())\n",
    "        epochs.append(epoch)\n",
    "    return model, y_pred\n",
    "\n",
    "def check_drift(drift_detector, y, y_pred, epoch, print_warning):\n",
    "    drift_detector.update(y == y_pred)\n",
    "    drift_detected = drift_detector.drift_detected\n",
    "    warning_detected = getattr(drift_detector, \"warning_detected\", False)\n",
    "\n",
    "    if print_warning and warning_detected:\n",
    "        print(f\"Warning detected at index {epoch}, input value: {y}\")\n",
    "\n",
    "    if drift_detected:\n",
    "        print(f\"Drift detected at index {epoch}, input value: {y}\")\n",
    "    return drift_detected\n"
   ]
  },
  {
   "cell_type": "code",
   "execution_count": 14,
   "id": "500522e0",
   "metadata": {},
   "outputs": [],
   "source": [
    "def run_drift_detection(generator, drift_detector, boruta_samples=100, n_samples=10_000, n_history=1000, print_warning=False):\n",
    "    classification_report = metrics.ClassificationReport()\n",
    "    acc = metrics.Accuracy()\n",
    "    model = tree.HoeffdingTreeClassifier()\n",
    "\n",
    "    accuracies = []\n",
    "    detected_drift_points = []\n",
    "    regular_model_changes = []\n",
    "    epochs = []\n",
    "    \n",
    "    \n",
    "    previous_xs, previous_ys = deque(maxlen=n_history), deque(maxlen=n_history)\n",
    "    for x, y in generator.take(boruta_samples):\n",
    "        previous_xs.append(x)\n",
    "        previous_ys.append(y)\n",
    "    \n",
    "    \n",
    "    boruta_result = run_Boruta(pd.DataFrame(previous_xs), np.array(previous_ys))\n",
    "    accepted_features = list(boruta_result.accepted)\n",
    "    accepted_features.extend(list(boruta_result.tentative))\n",
    "    \n",
    "\n",
    "    for epoch, (x, y) in enumerate(generator.take(n_samples-boruta_samples)):\n",
    "        # update history\n",
    "        previous_xs.append(x)\n",
    "        previous_ys.append(y)\n",
    "\n",
    "        # single element prediction\n",
    "        important_xs = {key: value for key, value in x.items() if key in accepted_features}\n",
    "        model, y_pred = update_metrics(model, important_xs, y, acc, classification_report, epoch, accuracies, epochs)\n",
    "\n",
    "        # check drift on y\n",
    "        if y_pred is not None and check_drift(drift_detector, y, y_pred, epoch, print_warning):\n",
    "            boruta_result = run_Boruta(pd.DataFrame(previous_xs), np.array(previous_ys))\n",
    "            accepted_features = list(boruta_result.accepted)\n",
    "            accepted_features.extend(list(boruta_result.tentative))\n",
    "            \n",
    "            model = tree.HoeffdingTreeClassifier()\n",
    "            detected_drift_points.append(epoch)\n",
    "        \n",
    "        # check feature importance every x epochs:\n",
    "        elif epoch % n_history == 0:\n",
    "            boruta_result = run_Boruta(pd.DataFrame(previous_xs), np.array(previous_ys))\n",
    "            new_accepted_features = list(boruta_result.accepted)\n",
    "            new_accepted_features.extend(list(boruta_result.tentative))\n",
    "            if len(set(accepted_features).difference(new_accepted_features)) > len(accepted_features) / 2:\n",
    "                print(f\"Feature importance changed at epoch {epoch}.\")\n",
    "                accepted_features = new_accepted_features\n",
    "                model = tree.HoeffdingTreeClassifier()\n",
    "                regular_model_changes.append(epoch)\n",
    "        \n",
    "        if epoch % 1_000 == 0:\n",
    "            print(f'Epoch {epoch}, {acc}')\n",
    "\n",
    "    print('\\n')\n",
    "    print(classification_report)\n",
    "    \n",
    "    real_drfit_points = list(generator.importance_history.keys())\n",
    "    \n",
    "    plot_accuracy_with_drift(epochs, accuracies, real_drfit_points, detected_drift_points, regular_model_changes)"
   ]
  },
  {
   "cell_type": "code",
   "execution_count": 15,
   "id": "c1321dc5",
   "metadata": {},
   "outputs": [
    {
     "name": "stderr",
     "output_type": "stream",
     "text": [
      "c:\\Users\\kaspr\\Documents\\Studia\\IAD2\\DataStreams\\ml-in-data-streams\\ds_venv\\Lib\\site-packages\\sklearn\\utils\\deprecation.py:151: FutureWarning: 'force_all_finite' was renamed to 'ensure_all_finite' in 1.6 and will be removed in 1.8.\n",
      "  warnings.warn(\n",
      "c:\\Users\\kaspr\\Documents\\Studia\\IAD2\\DataStreams\\ml-in-data-streams\\ds_venv\\Lib\\site-packages\\sklearn\\utils\\deprecation.py:151: FutureWarning: 'force_all_finite' was renamed to 'ensure_all_finite' in 1.6 and will be removed in 1.8.\n",
      "  warnings.warn(\n",
      "Boruta trials:   0%|          | 0/30 [00:00<?, ?it/s]c:\\Users\\kaspr\\Documents\\Studia\\IAD2\\DataStreams\\ml-in-data-streams\\ds_venv\\Lib\\site-packages\\eBoruta\\algorithm.py:431: FutureWarning: The behavior of DataFrame concatenation with empty or all-NA entries is deprecated. In a future version, this will no longer exclude empty or all-NA columns when determining the result dtypes. To retain the old behavior, exclude the relevant entries before the concat operation.\n",
      "  self.features_.imp_history = pd.concat(\n",
      "Boruta trials:  23%|██▎       | 7/30 [00:00<00:01, 21.53it/s, accepted=2, rejected=18, tentative=0]\n",
      "c:\\Users\\kaspr\\Documents\\Studia\\IAD2\\DataStreams\\ml-in-data-streams\\ds_venv\\Lib\\site-packages\\sklearn\\utils\\deprecation.py:151: FutureWarning: 'force_all_finite' was renamed to 'ensure_all_finite' in 1.6 and will be removed in 1.8.\n",
      "  warnings.warn(\n",
      "c:\\Users\\kaspr\\Documents\\Studia\\IAD2\\DataStreams\\ml-in-data-streams\\ds_venv\\Lib\\site-packages\\sklearn\\utils\\deprecation.py:151: FutureWarning: 'force_all_finite' was renamed to 'ensure_all_finite' in 1.6 and will be removed in 1.8.\n",
      "  warnings.warn(\n",
      "Boruta trials:   0%|          | 0/30 [00:00<?, ?it/s]c:\\Users\\kaspr\\Documents\\Studia\\IAD2\\DataStreams\\ml-in-data-streams\\ds_venv\\Lib\\site-packages\\eBoruta\\algorithm.py:431: FutureWarning: The behavior of DataFrame concatenation with empty or all-NA entries is deprecated. In a future version, this will no longer exclude empty or all-NA columns when determining the result dtypes. To retain the old behavior, exclude the relevant entries before the concat operation.\n",
      "  self.features_.imp_history = pd.concat(\n",
      "Boruta trials:  37%|███▋      | 11/30 [00:00<00:00, 21.45it/s, accepted=2, rejected=18, tentative=0]\n",
      "c:\\Users\\kaspr\\Documents\\Studia\\IAD2\\DataStreams\\ml-in-data-streams\\ds_venv\\Lib\\site-packages\\sklearn\\utils\\deprecation.py:151: FutureWarning: 'force_all_finite' was renamed to 'ensure_all_finite' in 1.6 and will be removed in 1.8.\n",
      "  warnings.warn(\n",
      "c:\\Users\\kaspr\\Documents\\Studia\\IAD2\\DataStreams\\ml-in-data-streams\\ds_venv\\Lib\\site-packages\\sklearn\\utils\\deprecation.py:151: FutureWarning: 'force_all_finite' was renamed to 'ensure_all_finite' in 1.6 and will be removed in 1.8.\n",
      "  warnings.warn(\n"
     ]
    },
    {
     "name": "stdout",
     "output_type": "stream",
     "text": [
      "Epoch 0, Accuracy: 0.00%\n",
      "Drift detected at index 608, input value: 1\n"
     ]
    },
    {
     "name": "stderr",
     "output_type": "stream",
     "text": [
      "Boruta trials:   0%|          | 0/30 [00:00<?, ?it/s]c:\\Users\\kaspr\\Documents\\Studia\\IAD2\\DataStreams\\ml-in-data-streams\\ds_venv\\Lib\\site-packages\\eBoruta\\algorithm.py:431: FutureWarning: The behavior of DataFrame concatenation with empty or all-NA entries is deprecated. In a future version, this will no longer exclude empty or all-NA columns when determining the result dtypes. To retain the old behavior, exclude the relevant entries before the concat operation.\n",
      "  self.features_.imp_history = pd.concat(\n",
      "Boruta trials: 100%|██████████| 30/30 [00:01<00:00, 15.05it/s, accepted=3, rejected=16, tentative=1]\n",
      "c:\\Users\\kaspr\\Documents\\Studia\\IAD2\\DataStreams\\ml-in-data-streams\\ds_venv\\Lib\\site-packages\\sklearn\\utils\\deprecation.py:151: FutureWarning: 'force_all_finite' was renamed to 'ensure_all_finite' in 1.6 and will be removed in 1.8.\n",
      "  warnings.warn(\n",
      "c:\\Users\\kaspr\\Documents\\Studia\\IAD2\\DataStreams\\ml-in-data-streams\\ds_venv\\Lib\\site-packages\\sklearn\\utils\\deprecation.py:151: FutureWarning: 'force_all_finite' was renamed to 'ensure_all_finite' in 1.6 and will be removed in 1.8.\n",
      "  warnings.warn(\n",
      "Boruta trials:   0%|          | 0/30 [00:00<?, ?it/s]c:\\Users\\kaspr\\Documents\\Studia\\IAD2\\DataStreams\\ml-in-data-streams\\ds_venv\\Lib\\site-packages\\eBoruta\\algorithm.py:431: FutureWarning: The behavior of DataFrame concatenation with empty or all-NA entries is deprecated. In a future version, this will no longer exclude empty or all-NA columns when determining the result dtypes. To retain the old behavior, exclude the relevant entries before the concat operation.\n",
      "  self.features_.imp_history = pd.concat(\n",
      "Boruta trials: 100%|██████████| 30/30 [00:02<00:00, 13.99it/s, accepted=4, rejected=15, tentative=1]\n",
      "c:\\Users\\kaspr\\Documents\\Studia\\IAD2\\DataStreams\\ml-in-data-streams\\ds_venv\\Lib\\site-packages\\sklearn\\utils\\deprecation.py:151: FutureWarning: 'force_all_finite' was renamed to 'ensure_all_finite' in 1.6 and will be removed in 1.8.\n",
      "  warnings.warn(\n",
      "c:\\Users\\kaspr\\Documents\\Studia\\IAD2\\DataStreams\\ml-in-data-streams\\ds_venv\\Lib\\site-packages\\sklearn\\utils\\deprecation.py:151: FutureWarning: 'force_all_finite' was renamed to 'ensure_all_finite' in 1.6 and will be removed in 1.8.\n",
      "  warnings.warn(\n"
     ]
    },
    {
     "name": "stdout",
     "output_type": "stream",
     "text": [
      "Epoch 1000, Accuracy: 82.88%\n",
      "Drift detected at index 1601, input value: 0\n"
     ]
    },
    {
     "name": "stderr",
     "output_type": "stream",
     "text": [
      "Boruta trials:   0%|          | 0/30 [00:00<?, ?it/s]c:\\Users\\kaspr\\Documents\\Studia\\IAD2\\DataStreams\\ml-in-data-streams\\ds_venv\\Lib\\site-packages\\eBoruta\\algorithm.py:431: FutureWarning: The behavior of DataFrame concatenation with empty or all-NA entries is deprecated. In a future version, this will no longer exclude empty or all-NA columns when determining the result dtypes. To retain the old behavior, exclude the relevant entries before the concat operation.\n",
      "  self.features_.imp_history = pd.concat(\n",
      "Boruta trials: 100%|██████████| 30/30 [00:02<00:00, 14.35it/s, accepted=3, rejected=15, tentative=2]\n",
      "c:\\Users\\kaspr\\Documents\\Studia\\IAD2\\DataStreams\\ml-in-data-streams\\ds_venv\\Lib\\site-packages\\sklearn\\utils\\deprecation.py:151: FutureWarning: 'force_all_finite' was renamed to 'ensure_all_finite' in 1.6 and will be removed in 1.8.\n",
      "  warnings.warn(\n",
      "c:\\Users\\kaspr\\Documents\\Studia\\IAD2\\DataStreams\\ml-in-data-streams\\ds_venv\\Lib\\site-packages\\sklearn\\utils\\deprecation.py:151: FutureWarning: 'force_all_finite' was renamed to 'ensure_all_finite' in 1.6 and will be removed in 1.8.\n",
      "  warnings.warn(\n",
      "Boruta trials:   0%|          | 0/30 [00:00<?, ?it/s]c:\\Users\\kaspr\\Documents\\Studia\\IAD2\\DataStreams\\ml-in-data-streams\\ds_venv\\Lib\\site-packages\\eBoruta\\algorithm.py:431: FutureWarning: The behavior of DataFrame concatenation with empty or all-NA entries is deprecated. In a future version, this will no longer exclude empty or all-NA columns when determining the result dtypes. To retain the old behavior, exclude the relevant entries before the concat operation.\n",
      "  self.features_.imp_history = pd.concat(\n",
      "Boruta trials: 100%|██████████| 30/30 [00:02<00:00, 13.99it/s, accepted=5, rejected=12, tentative=3]\n",
      "c:\\Users\\kaspr\\Documents\\Studia\\IAD2\\DataStreams\\ml-in-data-streams\\ds_venv\\Lib\\site-packages\\sklearn\\utils\\deprecation.py:151: FutureWarning: 'force_all_finite' was renamed to 'ensure_all_finite' in 1.6 and will be removed in 1.8.\n",
      "  warnings.warn(\n",
      "c:\\Users\\kaspr\\Documents\\Studia\\IAD2\\DataStreams\\ml-in-data-streams\\ds_venv\\Lib\\site-packages\\sklearn\\utils\\deprecation.py:151: FutureWarning: 'force_all_finite' was renamed to 'ensure_all_finite' in 1.6 and will be removed in 1.8.\n",
      "  warnings.warn(\n"
     ]
    },
    {
     "name": "stdout",
     "output_type": "stream",
     "text": [
      "Epoch 2000, Accuracy: 81.13%\n",
      "Drift detected at index 2658, input value: 0\n"
     ]
    },
    {
     "name": "stderr",
     "output_type": "stream",
     "text": [
      "Boruta trials:   0%|          | 0/30 [00:00<?, ?it/s]c:\\Users\\kaspr\\Documents\\Studia\\IAD2\\DataStreams\\ml-in-data-streams\\ds_venv\\Lib\\site-packages\\eBoruta\\algorithm.py:431: FutureWarning: The behavior of DataFrame concatenation with empty or all-NA entries is deprecated. In a future version, this will no longer exclude empty or all-NA columns when determining the result dtypes. To retain the old behavior, exclude the relevant entries before the concat operation.\n",
      "  self.features_.imp_history = pd.concat(\n",
      "Boruta trials: 100%|██████████| 30/30 [00:02<00:00, 14.94it/s, accepted=5, rejected=14, tentative=1]\n",
      "c:\\Users\\kaspr\\Documents\\Studia\\IAD2\\DataStreams\\ml-in-data-streams\\ds_venv\\Lib\\site-packages\\sklearn\\utils\\deprecation.py:151: FutureWarning: 'force_all_finite' was renamed to 'ensure_all_finite' in 1.6 and will be removed in 1.8.\n",
      "  warnings.warn(\n",
      "c:\\Users\\kaspr\\Documents\\Studia\\IAD2\\DataStreams\\ml-in-data-streams\\ds_venv\\Lib\\site-packages\\sklearn\\utils\\deprecation.py:151: FutureWarning: 'force_all_finite' was renamed to 'ensure_all_finite' in 1.6 and will be removed in 1.8.\n",
      "  warnings.warn(\n",
      "Boruta trials:   0%|          | 0/30 [00:00<?, ?it/s]c:\\Users\\kaspr\\Documents\\Studia\\IAD2\\DataStreams\\ml-in-data-streams\\ds_venv\\Lib\\site-packages\\eBoruta\\algorithm.py:431: FutureWarning: The behavior of DataFrame concatenation with empty or all-NA entries is deprecated. In a future version, this will no longer exclude empty or all-NA columns when determining the result dtypes. To retain the old behavior, exclude the relevant entries before the concat operation.\n",
      "  self.features_.imp_history = pd.concat(\n",
      "Boruta trials: 100%|██████████| 30/30 [00:01<00:00, 15.11it/s, accepted=4, rejected=15, tentative=1]\n",
      "c:\\Users\\kaspr\\Documents\\Studia\\IAD2\\DataStreams\\ml-in-data-streams\\ds_venv\\Lib\\site-packages\\sklearn\\utils\\deprecation.py:151: FutureWarning: 'force_all_finite' was renamed to 'ensure_all_finite' in 1.6 and will be removed in 1.8.\n",
      "  warnings.warn(\n",
      "c:\\Users\\kaspr\\Documents\\Studia\\IAD2\\DataStreams\\ml-in-data-streams\\ds_venv\\Lib\\site-packages\\sklearn\\utils\\deprecation.py:151: FutureWarning: 'force_all_finite' was renamed to 'ensure_all_finite' in 1.6 and will be removed in 1.8.\n",
      "  warnings.warn(\n"
     ]
    },
    {
     "name": "stdout",
     "output_type": "stream",
     "text": [
      "Epoch 3000, Accuracy: 81.98%\n",
      "Drift detected at index 3139, input value: 0\n"
     ]
    },
    {
     "name": "stderr",
     "output_type": "stream",
     "text": [
      "Boruta trials:   0%|          | 0/30 [00:00<?, ?it/s]c:\\Users\\kaspr\\Documents\\Studia\\IAD2\\DataStreams\\ml-in-data-streams\\ds_venv\\Lib\\site-packages\\eBoruta\\algorithm.py:431: FutureWarning: The behavior of DataFrame concatenation with empty or all-NA entries is deprecated. In a future version, this will no longer exclude empty or all-NA columns when determining the result dtypes. To retain the old behavior, exclude the relevant entries before the concat operation.\n",
      "  self.features_.imp_history = pd.concat(\n",
      "Boruta trials: 100%|██████████| 30/30 [00:02<00:00, 14.81it/s, accepted=4, rejected=15, tentative=1]\n",
      "c:\\Users\\kaspr\\Documents\\Studia\\IAD2\\DataStreams\\ml-in-data-streams\\ds_venv\\Lib\\site-packages\\sklearn\\utils\\deprecation.py:151: FutureWarning: 'force_all_finite' was renamed to 'ensure_all_finite' in 1.6 and will be removed in 1.8.\n",
      "  warnings.warn(\n",
      "c:\\Users\\kaspr\\Documents\\Studia\\IAD2\\DataStreams\\ml-in-data-streams\\ds_venv\\Lib\\site-packages\\sklearn\\utils\\deprecation.py:151: FutureWarning: 'force_all_finite' was renamed to 'ensure_all_finite' in 1.6 and will be removed in 1.8.\n",
      "  warnings.warn(\n"
     ]
    },
    {
     "name": "stdout",
     "output_type": "stream",
     "text": [
      "Drift detected at index 3908, input value: 0\n"
     ]
    },
    {
     "name": "stderr",
     "output_type": "stream",
     "text": [
      "Boruta trials:   0%|          | 0/30 [00:00<?, ?it/s]c:\\Users\\kaspr\\Documents\\Studia\\IAD2\\DataStreams\\ml-in-data-streams\\ds_venv\\Lib\\site-packages\\eBoruta\\algorithm.py:431: FutureWarning: The behavior of DataFrame concatenation with empty or all-NA entries is deprecated. In a future version, this will no longer exclude empty or all-NA columns when determining the result dtypes. To retain the old behavior, exclude the relevant entries before the concat operation.\n",
      "  self.features_.imp_history = pd.concat(\n",
      "Boruta trials: 100%|██████████| 30/30 [00:02<00:00, 14.13it/s, accepted=4, rejected=15, tentative=1]\n",
      "c:\\Users\\kaspr\\Documents\\Studia\\IAD2\\DataStreams\\ml-in-data-streams\\ds_venv\\Lib\\site-packages\\sklearn\\utils\\deprecation.py:151: FutureWarning: 'force_all_finite' was renamed to 'ensure_all_finite' in 1.6 and will be removed in 1.8.\n",
      "  warnings.warn(\n",
      "c:\\Users\\kaspr\\Documents\\Studia\\IAD2\\DataStreams\\ml-in-data-streams\\ds_venv\\Lib\\site-packages\\sklearn\\utils\\deprecation.py:151: FutureWarning: 'force_all_finite' was renamed to 'ensure_all_finite' in 1.6 and will be removed in 1.8.\n",
      "  warnings.warn(\n",
      "Boruta trials:   0%|          | 0/30 [00:00<?, ?it/s]c:\\Users\\kaspr\\Documents\\Studia\\IAD2\\DataStreams\\ml-in-data-streams\\ds_venv\\Lib\\site-packages\\eBoruta\\algorithm.py:431: FutureWarning: The behavior of DataFrame concatenation with empty or all-NA entries is deprecated. In a future version, this will no longer exclude empty or all-NA columns when determining the result dtypes. To retain the old behavior, exclude the relevant entries before the concat operation.\n",
      "  self.features_.imp_history = pd.concat(\n",
      "Boruta trials: 100%|██████████| 30/30 [00:02<00:00, 15.00it/s, accepted=4, rejected=15, tentative=1]\n",
      "c:\\Users\\kaspr\\Documents\\Studia\\IAD2\\DataStreams\\ml-in-data-streams\\ds_venv\\Lib\\site-packages\\sklearn\\utils\\deprecation.py:151: FutureWarning: 'force_all_finite' was renamed to 'ensure_all_finite' in 1.6 and will be removed in 1.8.\n",
      "  warnings.warn(\n",
      "c:\\Users\\kaspr\\Documents\\Studia\\IAD2\\DataStreams\\ml-in-data-streams\\ds_venv\\Lib\\site-packages\\sklearn\\utils\\deprecation.py:151: FutureWarning: 'force_all_finite' was renamed to 'ensure_all_finite' in 1.6 and will be removed in 1.8.\n",
      "  warnings.warn(\n"
     ]
    },
    {
     "name": "stdout",
     "output_type": "stream",
     "text": [
      "Epoch 4000, Accuracy: 80.95%\n",
      "Drift detected at index 4773, input value: 1\n"
     ]
    },
    {
     "name": "stderr",
     "output_type": "stream",
     "text": [
      "Boruta trials:   0%|          | 0/30 [00:00<?, ?it/s]c:\\Users\\kaspr\\Documents\\Studia\\IAD2\\DataStreams\\ml-in-data-streams\\ds_venv\\Lib\\site-packages\\eBoruta\\algorithm.py:431: FutureWarning: The behavior of DataFrame concatenation with empty or all-NA entries is deprecated. In a future version, this will no longer exclude empty or all-NA columns when determining the result dtypes. To retain the old behavior, exclude the relevant entries before the concat operation.\n",
      "  self.features_.imp_history = pd.concat(\n",
      "Boruta trials: 100%|██████████| 30/30 [00:02<00:00, 14.47it/s, accepted=5, rejected=12, tentative=3]\n",
      "c:\\Users\\kaspr\\Documents\\Studia\\IAD2\\DataStreams\\ml-in-data-streams\\ds_venv\\Lib\\site-packages\\sklearn\\utils\\deprecation.py:151: FutureWarning: 'force_all_finite' was renamed to 'ensure_all_finite' in 1.6 and will be removed in 1.8.\n",
      "  warnings.warn(\n",
      "c:\\Users\\kaspr\\Documents\\Studia\\IAD2\\DataStreams\\ml-in-data-streams\\ds_venv\\Lib\\site-packages\\sklearn\\utils\\deprecation.py:151: FutureWarning: 'force_all_finite' was renamed to 'ensure_all_finite' in 1.6 and will be removed in 1.8.\n",
      "  warnings.warn(\n",
      "Boruta trials:   0%|          | 0/30 [00:00<?, ?it/s]c:\\Users\\kaspr\\Documents\\Studia\\IAD2\\DataStreams\\ml-in-data-streams\\ds_venv\\Lib\\site-packages\\eBoruta\\algorithm.py:431: FutureWarning: The behavior of DataFrame concatenation with empty or all-NA entries is deprecated. In a future version, this will no longer exclude empty or all-NA columns when determining the result dtypes. To retain the old behavior, exclude the relevant entries before the concat operation.\n",
      "  self.features_.imp_history = pd.concat(\n",
      "Boruta trials: 100%|██████████| 30/30 [00:01<00:00, 15.36it/s, accepted=6, rejected=13, tentative=1]\n",
      "c:\\Users\\kaspr\\Documents\\Studia\\IAD2\\DataStreams\\ml-in-data-streams\\ds_venv\\Lib\\site-packages\\sklearn\\utils\\deprecation.py:151: FutureWarning: 'force_all_finite' was renamed to 'ensure_all_finite' in 1.6 and will be removed in 1.8.\n",
      "  warnings.warn(\n",
      "c:\\Users\\kaspr\\Documents\\Studia\\IAD2\\DataStreams\\ml-in-data-streams\\ds_venv\\Lib\\site-packages\\sklearn\\utils\\deprecation.py:151: FutureWarning: 'force_all_finite' was renamed to 'ensure_all_finite' in 1.6 and will be removed in 1.8.\n",
      "  warnings.warn(\n"
     ]
    },
    {
     "name": "stdout",
     "output_type": "stream",
     "text": [
      "Epoch 5000, Accuracy: 80.02%\n",
      "Drift detected at index 5670, input value: 0\n"
     ]
    },
    {
     "name": "stderr",
     "output_type": "stream",
     "text": [
      "Boruta trials:   0%|          | 0/30 [00:00<?, ?it/s]c:\\Users\\kaspr\\Documents\\Studia\\IAD2\\DataStreams\\ml-in-data-streams\\ds_venv\\Lib\\site-packages\\eBoruta\\algorithm.py:431: FutureWarning: The behavior of DataFrame concatenation with empty or all-NA entries is deprecated. In a future version, this will no longer exclude empty or all-NA columns when determining the result dtypes. To retain the old behavior, exclude the relevant entries before the concat operation.\n",
      "  self.features_.imp_history = pd.concat(\n",
      "Boruta trials: 100%|██████████| 30/30 [00:02<00:00, 14.73it/s, accepted=3, rejected=13, tentative=4]\n",
      "c:\\Users\\kaspr\\Documents\\Studia\\IAD2\\DataStreams\\ml-in-data-streams\\ds_venv\\Lib\\site-packages\\sklearn\\utils\\deprecation.py:151: FutureWarning: 'force_all_finite' was renamed to 'ensure_all_finite' in 1.6 and will be removed in 1.8.\n",
      "  warnings.warn(\n",
      "c:\\Users\\kaspr\\Documents\\Studia\\IAD2\\DataStreams\\ml-in-data-streams\\ds_venv\\Lib\\site-packages\\sklearn\\utils\\deprecation.py:151: FutureWarning: 'force_all_finite' was renamed to 'ensure_all_finite' in 1.6 and will be removed in 1.8.\n",
      "  warnings.warn(\n",
      "Boruta trials:   0%|          | 0/30 [00:00<?, ?it/s]c:\\Users\\kaspr\\Documents\\Studia\\IAD2\\DataStreams\\ml-in-data-streams\\ds_venv\\Lib\\site-packages\\eBoruta\\algorithm.py:431: FutureWarning: The behavior of DataFrame concatenation with empty or all-NA entries is deprecated. In a future version, this will no longer exclude empty or all-NA columns when determining the result dtypes. To retain the old behavior, exclude the relevant entries before the concat operation.\n",
      "  self.features_.imp_history = pd.concat(\n",
      "Boruta trials: 100%|██████████| 30/30 [00:02<00:00, 14.06it/s, accepted=6, rejected=11, tentative=3]\n",
      "c:\\Users\\kaspr\\Documents\\Studia\\IAD2\\DataStreams\\ml-in-data-streams\\ds_venv\\Lib\\site-packages\\sklearn\\utils\\deprecation.py:151: FutureWarning: 'force_all_finite' was renamed to 'ensure_all_finite' in 1.6 and will be removed in 1.8.\n",
      "  warnings.warn(\n",
      "c:\\Users\\kaspr\\Documents\\Studia\\IAD2\\DataStreams\\ml-in-data-streams\\ds_venv\\Lib\\site-packages\\sklearn\\utils\\deprecation.py:151: FutureWarning: 'force_all_finite' was renamed to 'ensure_all_finite' in 1.6 and will be removed in 1.8.\n",
      "  warnings.warn(\n"
     ]
    },
    {
     "name": "stdout",
     "output_type": "stream",
     "text": [
      "Epoch 6000, Accuracy: 81.36%\n",
      "Drift detected at index 6503, input value: 1\n"
     ]
    },
    {
     "name": "stderr",
     "output_type": "stream",
     "text": [
      "Boruta trials:   0%|          | 0/30 [00:00<?, ?it/s]c:\\Users\\kaspr\\Documents\\Studia\\IAD2\\DataStreams\\ml-in-data-streams\\ds_venv\\Lib\\site-packages\\eBoruta\\algorithm.py:431: FutureWarning: The behavior of DataFrame concatenation with empty or all-NA entries is deprecated. In a future version, this will no longer exclude empty or all-NA columns when determining the result dtypes. To retain the old behavior, exclude the relevant entries before the concat operation.\n",
      "  self.features_.imp_history = pd.concat(\n",
      "Boruta trials: 100%|██████████| 30/30 [00:02<00:00, 14.78it/s, accepted=3, rejected=14, tentative=3]\n",
      "c:\\Users\\kaspr\\Documents\\Studia\\IAD2\\DataStreams\\ml-in-data-streams\\ds_venv\\Lib\\site-packages\\sklearn\\utils\\deprecation.py:151: FutureWarning: 'force_all_finite' was renamed to 'ensure_all_finite' in 1.6 and will be removed in 1.8.\n",
      "  warnings.warn(\n",
      "c:\\Users\\kaspr\\Documents\\Studia\\IAD2\\DataStreams\\ml-in-data-streams\\ds_venv\\Lib\\site-packages\\sklearn\\utils\\deprecation.py:151: FutureWarning: 'force_all_finite' was renamed to 'ensure_all_finite' in 1.6 and will be removed in 1.8.\n",
      "  warnings.warn(\n",
      "Boruta trials:   0%|          | 0/30 [00:00<?, ?it/s]c:\\Users\\kaspr\\Documents\\Studia\\IAD2\\DataStreams\\ml-in-data-streams\\ds_venv\\Lib\\site-packages\\eBoruta\\algorithm.py:431: FutureWarning: The behavior of DataFrame concatenation with empty or all-NA entries is deprecated. In a future version, this will no longer exclude empty or all-NA columns when determining the result dtypes. To retain the old behavior, exclude the relevant entries before the concat operation.\n",
      "  self.features_.imp_history = pd.concat(\n",
      "Boruta trials:  70%|███████   | 21/30 [00:01<00:00, 13.22it/s, accepted=5, rejected=15, tentative=0]\n",
      "c:\\Users\\kaspr\\Documents\\Studia\\IAD2\\DataStreams\\ml-in-data-streams\\ds_venv\\Lib\\site-packages\\sklearn\\utils\\deprecation.py:151: FutureWarning: 'force_all_finite' was renamed to 'ensure_all_finite' in 1.6 and will be removed in 1.8.\n",
      "  warnings.warn(\n",
      "c:\\Users\\kaspr\\Documents\\Studia\\IAD2\\DataStreams\\ml-in-data-streams\\ds_venv\\Lib\\site-packages\\sklearn\\utils\\deprecation.py:151: FutureWarning: 'force_all_finite' was renamed to 'ensure_all_finite' in 1.6 and will be removed in 1.8.\n",
      "  warnings.warn(\n"
     ]
    },
    {
     "name": "stdout",
     "output_type": "stream",
     "text": [
      "Feature importance changed at epoch 7000.\n",
      "Epoch 7000, Accuracy: 79.25%\n",
      "Drift detected at index 7113, input value: 0\n"
     ]
    },
    {
     "name": "stderr",
     "output_type": "stream",
     "text": [
      "Boruta trials:   0%|          | 0/30 [00:00<?, ?it/s]c:\\Users\\kaspr\\Documents\\Studia\\IAD2\\DataStreams\\ml-in-data-streams\\ds_venv\\Lib\\site-packages\\eBoruta\\algorithm.py:431: FutureWarning: The behavior of DataFrame concatenation with empty or all-NA entries is deprecated. In a future version, this will no longer exclude empty or all-NA columns when determining the result dtypes. To retain the old behavior, exclude the relevant entries before the concat operation.\n",
      "  self.features_.imp_history = pd.concat(\n",
      "Boruta trials: 100%|██████████| 30/30 [00:02<00:00, 14.71it/s, accepted=5, rejected=13, tentative=2]\n",
      "c:\\Users\\kaspr\\Documents\\Studia\\IAD2\\DataStreams\\ml-in-data-streams\\ds_venv\\Lib\\site-packages\\sklearn\\utils\\deprecation.py:151: FutureWarning: 'force_all_finite' was renamed to 'ensure_all_finite' in 1.6 and will be removed in 1.8.\n",
      "  warnings.warn(\n",
      "c:\\Users\\kaspr\\Documents\\Studia\\IAD2\\DataStreams\\ml-in-data-streams\\ds_venv\\Lib\\site-packages\\sklearn\\utils\\deprecation.py:151: FutureWarning: 'force_all_finite' was renamed to 'ensure_all_finite' in 1.6 and will be removed in 1.8.\n",
      "  warnings.warn(\n",
      "Boruta trials:   0%|          | 0/30 [00:00<?, ?it/s]c:\\Users\\kaspr\\Documents\\Studia\\IAD2\\DataStreams\\ml-in-data-streams\\ds_venv\\Lib\\site-packages\\eBoruta\\algorithm.py:431: FutureWarning: The behavior of DataFrame concatenation with empty or all-NA entries is deprecated. In a future version, this will no longer exclude empty or all-NA columns when determining the result dtypes. To retain the old behavior, exclude the relevant entries before the concat operation.\n",
      "  self.features_.imp_history = pd.concat(\n",
      "Boruta trials: 100%|██████████| 30/30 [00:02<00:00, 14.89it/s, accepted=3, rejected=15, tentative=2]\n",
      "c:\\Users\\kaspr\\Documents\\Studia\\IAD2\\DataStreams\\ml-in-data-streams\\ds_venv\\Lib\\site-packages\\sklearn\\utils\\deprecation.py:151: FutureWarning: 'force_all_finite' was renamed to 'ensure_all_finite' in 1.6 and will be removed in 1.8.\n",
      "  warnings.warn(\n",
      "c:\\Users\\kaspr\\Documents\\Studia\\IAD2\\DataStreams\\ml-in-data-streams\\ds_venv\\Lib\\site-packages\\sklearn\\utils\\deprecation.py:151: FutureWarning: 'force_all_finite' was renamed to 'ensure_all_finite' in 1.6 and will be removed in 1.8.\n",
      "  warnings.warn(\n"
     ]
    },
    {
     "name": "stdout",
     "output_type": "stream",
     "text": [
      "Epoch 8000, Accuracy: 79.95%\n",
      "Drift detected at index 8010, input value: 1\n"
     ]
    },
    {
     "name": "stderr",
     "output_type": "stream",
     "text": [
      "Boruta trials:   0%|          | 0/30 [00:00<?, ?it/s]c:\\Users\\kaspr\\Documents\\Studia\\IAD2\\DataStreams\\ml-in-data-streams\\ds_venv\\Lib\\site-packages\\eBoruta\\algorithm.py:431: FutureWarning: The behavior of DataFrame concatenation with empty or all-NA entries is deprecated. In a future version, this will no longer exclude empty or all-NA columns when determining the result dtypes. To retain the old behavior, exclude the relevant entries before the concat operation.\n",
      "  self.features_.imp_history = pd.concat(\n",
      "Boruta trials: 100%|██████████| 30/30 [00:02<00:00, 14.87it/s, accepted=3, rejected=16, tentative=1]\n",
      "c:\\Users\\kaspr\\Documents\\Studia\\IAD2\\DataStreams\\ml-in-data-streams\\ds_venv\\Lib\\site-packages\\sklearn\\utils\\deprecation.py:151: FutureWarning: 'force_all_finite' was renamed to 'ensure_all_finite' in 1.6 and will be removed in 1.8.\n",
      "  warnings.warn(\n",
      "c:\\Users\\kaspr\\Documents\\Studia\\IAD2\\DataStreams\\ml-in-data-streams\\ds_venv\\Lib\\site-packages\\sklearn\\utils\\deprecation.py:151: FutureWarning: 'force_all_finite' was renamed to 'ensure_all_finite' in 1.6 and will be removed in 1.8.\n",
      "  warnings.warn(\n",
      "Boruta trials:   0%|          | 0/30 [00:00<?, ?it/s]c:\\Users\\kaspr\\Documents\\Studia\\IAD2\\DataStreams\\ml-in-data-streams\\ds_venv\\Lib\\site-packages\\eBoruta\\algorithm.py:431: FutureWarning: The behavior of DataFrame concatenation with empty or all-NA entries is deprecated. In a future version, this will no longer exclude empty or all-NA columns when determining the result dtypes. To retain the old behavior, exclude the relevant entries before the concat operation.\n",
      "  self.features_.imp_history = pd.concat(\n",
      "Boruta trials: 100%|██████████| 30/30 [00:01<00:00, 15.09it/s, accepted=4, rejected=15, tentative=1]\n",
      "c:\\Users\\kaspr\\Documents\\Studia\\IAD2\\DataStreams\\ml-in-data-streams\\ds_venv\\Lib\\site-packages\\sklearn\\utils\\deprecation.py:151: FutureWarning: 'force_all_finite' was renamed to 'ensure_all_finite' in 1.6 and will be removed in 1.8.\n",
      "  warnings.warn(\n",
      "c:\\Users\\kaspr\\Documents\\Studia\\IAD2\\DataStreams\\ml-in-data-streams\\ds_venv\\Lib\\site-packages\\sklearn\\utils\\deprecation.py:151: FutureWarning: 'force_all_finite' was renamed to 'ensure_all_finite' in 1.6 and will be removed in 1.8.\n",
      "  warnings.warn(\n"
     ]
    },
    {
     "name": "stdout",
     "output_type": "stream",
     "text": [
      "Epoch 9000, Accuracy: 78.99%\n",
      "Drift detected at index 9675, input value: 0\n"
     ]
    },
    {
     "name": "stderr",
     "output_type": "stream",
     "text": [
      "Boruta trials:   0%|          | 0/30 [00:00<?, ?it/s]c:\\Users\\kaspr\\Documents\\Studia\\IAD2\\DataStreams\\ml-in-data-streams\\ds_venv\\Lib\\site-packages\\eBoruta\\algorithm.py:431: FutureWarning: The behavior of DataFrame concatenation with empty or all-NA entries is deprecated. In a future version, this will no longer exclude empty or all-NA columns when determining the result dtypes. To retain the old behavior, exclude the relevant entries before the concat operation.\n",
      "  self.features_.imp_history = pd.concat(\n",
      "Boruta trials: 100%|██████████| 30/30 [00:02<00:00, 13.89it/s, accepted=5, rejected=13, tentative=2]\n"
     ]
    },
    {
     "name": "stdout",
     "output_type": "stream",
     "text": [
      "\n",
      "\n",
      "           Precision   Recall   F1       Support  \n",
      "                                                  \n",
      "       0      78.64%   77.60%   78.12%      4915  \n",
      "       1      78.14%   79.16%   78.65%      4972  \n",
      "                                                  \n",
      "   Macro      78.39%   78.38%   78.38%            \n",
      "   Micro      78.39%   78.39%   78.39%            \n",
      "Weighted      78.39%   78.39%   78.38%            \n",
      "\n",
      "                 78.39% accuracy                  \n"
     ]
    },
    {
     "data": {
      "image/png": "[encoded data removed]",
      "text/plain": [
       "<Figure size 1000x500 with 1 Axes>"
      ]
     },
     "metadata": {},
     "output_type": "display_data"
    }
   ],
   "source": [
    "import random\n",
    "\n",
    "generator = FeatureImportanceChangeGenerator(20, 5, random_seed=random.randint(0, 300), importance_change_interval=10)\n",
    "run_drift_detection(generator, adwin)"
   ]
  },
  {
   "cell_type": "code",
   "execution_count": 16,
   "id": "39b70118",
   "metadata": {},
   "outputs": [
    {
     "data": {
      "text/plain": [
       "{1: (array([14, 15, 17, 18, 19]),\n",
       "  array([ -0.        ,   0.        ,  -0.        ,   0.        ,\n",
       "           0.        ,   0.        ,  -0.        ,   0.        ,\n",
       "           0.        ,   0.        ,   0.        ,  -0.        ,\n",
       "          -0.        ,  -0.        ,   2.36751627, -15.462526  ,\n",
       "          -0.        ,  -7.62139738,   3.24314364,   4.00498076])),\n",
       " 641: (array([ 5, 12, 16, 18, 19]),\n",
       "  array([ -0.        ,   0.        ,  -0.        ,  -0.        ,\n",
       "          -0.        ,  -1.25922122,   0.        ,  -0.        ,\n",
       "           0.        ,  -0.        ,  -0.        ,  -0.        ,\n",
       "          -3.41658581,  -0.        ,   0.        ,   0.        ,\n",
       "          -1.00102756,  -0.        ,  -1.65758246, -17.56222107])),\n",
       " 1652: (array([ 0,  1,  5, 10, 16]),\n",
       "  array([ -4.63427926, -12.71913784,   0.        ,   0.        ,\n",
       "           0.        ,   4.61090773,   0.        ,   0.        ,\n",
       "          -0.        ,  -0.        , -12.61535186,   0.        ,\n",
       "          -0.        ,   0.        ,   0.        ,   0.        ,\n",
       "          -7.83466969,  -0.        ,  -0.        ,   0.        ])),\n",
       " 2491: (array([ 1,  5, 12, 15, 16]),\n",
       "  array([  0.        , -13.54850729,  -0.        ,   0.        ,\n",
       "           0.        ,  -0.34228741,  -0.        ,   0.        ,\n",
       "          -0.        ,  -0.        ,   0.        ,   0.        ,\n",
       "           6.41829987,   0.        ,   0.        ,  -0.9650178 ,\n",
       "         -10.659347  ,   0.        ,  -0.        ,   0.        ])),\n",
       " 3186: (array([ 2,  3,  8, 15, 19]),\n",
       "  array([ -0.        ,   0.        , -23.07359798,  -3.71802497,\n",
       "           0.        ,   0.        ,  -0.        ,   0.        ,\n",
       "          -2.90054994,  -0.        ,   0.        ,   0.        ,\n",
       "          -0.        ,   0.        ,   0.        ,   6.03347712,\n",
       "          -0.        ,  -0.        ,  -0.        ,   9.61024871])),\n",
       " 3952: (array([ 1,  9, 12, 17, 19]),\n",
       "  array([ -0.        ,  -0.08094624,   0.        ,  -0.        ,\n",
       "          -0.        ,   0.        ,  -0.        ,  -0.        ,\n",
       "          -0.        ,  -1.38772625,   0.        ,  -0.        ,\n",
       "         -11.8479067 ,  -0.        ,   0.        ,  -0.        ,\n",
       "          -0.        ,  -8.02224653,   0.        ,  20.89183089])),\n",
       " 4734: (array([ 0,  2, 13, 16, 17]),\n",
       "  array([-6.53424191, -0.        , -6.55101855, -0.        , -0.        ,\n",
       "          0.        ,  0.        , -0.        ,  0.        ,  0.        ,\n",
       "          0.        , -0.        , -0.        , -7.09049787,  0.        ,\n",
       "         -0.        , -0.48023234, -0.23782637,  0.        , -0.        ])),\n",
       " 5718: (array([ 1,  4, 10, 18, 19]),\n",
       "  array([  0.        ,  11.11301541,   0.        ,  -0.        ,\n",
       "          -7.98432963,   0.        ,  -0.        ,  -0.        ,\n",
       "          -0.        ,   0.        ,   2.86417031,  -0.        ,\n",
       "          -0.        ,   0.        ,  -0.        ,  -0.        ,\n",
       "           0.        ,  -0.        , -30.89047282,   2.07657053])),\n",
       " 6555: (array([ 4,  8, 16, 17, 18]),\n",
       "  array([-0.        ,  0.        ,  0.        ,  0.        ,  0.09373407,\n",
       "          0.        ,  0.        ,  0.        , -7.05025519,  0.        ,\n",
       "          0.        ,  0.        ,  0.        , -0.        , -0.        ,\n",
       "          0.        ,  2.27031912,  2.47833635,  0.49264901,  0.        ])),\n",
       " 8073: (array([ 1,  6,  8, 15, 16]),\n",
       "  array([ -0.        ,  11.0292285 ,   0.        ,  -0.        ,\n",
       "          -0.        ,  -0.        ,  -0.04276294,   0.        ,\n",
       "           5.9882981 ,  -0.        ,  -0.        ,  -0.        ,\n",
       "          -0.        ,   0.        ,  -0.        ,  -6.49590784,\n",
       "         -11.30500495,   0.        ,  -0.        ,   0.        ])),\n",
       " 9598: (array([ 5,  8, 10, 14, 19]),\n",
       "  array([ 0.        , -0.        ,  0.        ,  0.        ,  0.        ,\n",
       "         -3.44753251,  0.        ,  0.        , -1.41118503, -0.        ,\n",
       "         15.47054237, -0.        ,  0.        , -0.        , -2.44417671,\n",
       "          0.        ,  0.        ,  0.        ,  0.        ,  0.82856118]))}"
      ]
     },
     "execution_count": 16,
     "metadata": {},
     "output_type": "execute_result"
    }
   ],
   "source": [
    "generator.importance_history"
   ]
  },
  {
   "cell_type": "code",
   "execution_count": null,
   "id": "d5f12840",
   "metadata": {},
   "outputs": [],
   "source": []
  }
 ],
 "metadata": {
  "kernelspec": {
   "display_name": "ds_venv",
   "language": "python",
   "name": "python3"
  },
  "language_info": {
   "codemirror_mode": {
    "name": "ipython",
    "version": 3
   },
   "file_extension": ".py",
   "mimetype": "text/x-python",
   "name": "python",
   "nbconvert_exporter": "python",
   "pygments_lexer": "ipython3",
   "version": "3.11.2"
  }
 },
 "nbformat": 4,
 "nbformat_minor": 5
}
