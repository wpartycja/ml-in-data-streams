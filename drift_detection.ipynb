{
 "cells": [
  {
   "cell_type": "code",
   "execution_count": 7,
   "id": "f84456f3",
   "metadata": {},
   "outputs": [],
   "source": [
    "from river import drift\n",
    "from stream_generator import FeatureImportanceChangeGenerator\n",
    "from drift_runner.drift_runner import DriftDetectionRunner\n"
   ]
  },
  {
   "cell_type": "code",
   "execution_count": 8,
   "id": "23f753c6",
   "metadata": {},
   "outputs": [],
   "source": [
    "possible_strategies = [\n",
    "    'all_features_no_reset',\n",
    "    'all_features_with_reset',\n",
    "    'boruta_initial_only',\n",
    "    'boruta_dynamic',\n",
    "    'alpha_dynamic']"
   ]
  },
  {
   "cell_type": "code",
   "execution_count": 9,
   "id": "a7c30fa9",
   "metadata": {},
   "outputs": [],
   "source": [
    "generator = FeatureImportanceChangeGenerator(n_features=20, n_important_features=5, random_seed=43, importance_change_interval=1)\n",
    "adwin = drift.ADWIN()\n",
    "kswin = drift.KSWIN()"
   ]
  },
  {
   "cell_type": "code",
   "execution_count": 10,
   "id": "c1321dc5",
   "metadata": {},
   "outputs": [
    {
     "data": {
      "application/vnd.jupyter.widget-view+json": {
       "model_id": "79c5db716c9440b2b5d587282dcc6c0b",
       "version_major": 2,
       "version_minor": 0
      },
      "text/plain": [
       "Boruta trials:   0%|          | 0/30 [00:00<?, ?it/s]"
      ]
     },
     "metadata": {},
     "output_type": "display_data"
    },
    {
     "name": "stderr",
     "output_type": "stream",
     "text": [
      "/home/wpartycja/.local/lib/python3.10/site-packages/eBoruta/algorithm.py:431: FutureWarning: The behavior of DataFrame concatenation with empty or all-NA entries is deprecated. In a future version, this will no longer exclude empty or all-NA columns when determining the result dtypes. To retain the old behavior, exclude the relevant entries before the concat operation.\n",
      "  self.features_.imp_history = pd.concat(\n"
     ]
    },
    {
     "data": {
      "application/vnd.jupyter.widget-view+json": {
       "model_id": "15d4a5e78bb645179788198dfb752308",
       "version_major": 2,
       "version_minor": 0
      },
      "text/plain": [
       "Boruta trials:   0%|          | 0/30 [00:00<?, ?it/s]"
      ]
     },
     "metadata": {},
     "output_type": "display_data"
    },
    {
     "name": "stderr",
     "output_type": "stream",
     "text": [
      "/home/wpartycja/.local/lib/python3.10/site-packages/eBoruta/algorithm.py:431: FutureWarning: The behavior of DataFrame concatenation with empty or all-NA entries is deprecated. In a future version, this will no longer exclude empty or all-NA columns when determining the result dtypes. To retain the old behavior, exclude the relevant entries before the concat operation.\n",
      "  self.features_.imp_history = pd.concat(\n"
     ]
    },
    {
     "name": "stdout",
     "output_type": "stream",
     "text": [
      "Epoch 0, Accuracy: 0.00%\n",
      "Drift detected at index 736, input value: 1\n",
      "Drift detected at epoch 736 → updating features and resetting model\n"
     ]
    },
    {
     "data": {
      "application/vnd.jupyter.widget-view+json": {
       "model_id": "f1cefc818f6b446f8296cdf86c4ee084",
       "version_major": 2,
       "version_minor": 0
      },
      "text/plain": [
       "Boruta trials:   0%|          | 0/30 [00:00<?, ?it/s]"
      ]
     },
     "metadata": {},
     "output_type": "display_data"
    },
    {
     "name": "stderr",
     "output_type": "stream",
     "text": [
      "/home/wpartycja/.local/lib/python3.10/site-packages/eBoruta/algorithm.py:431: FutureWarning: The behavior of DataFrame concatenation with empty or all-NA entries is deprecated. In a future version, this will no longer exclude empty or all-NA columns when determining the result dtypes. To retain the old behavior, exclude the relevant entries before the concat operation.\n",
      "  self.features_.imp_history = pd.concat(\n"
     ]
    },
    {
     "name": "stdout",
     "output_type": "stream",
     "text": [
      "Epoch 1000, Accuracy: 78.98%\n"
     ]
    },
    {
     "data": {
      "application/vnd.jupyter.widget-view+json": {
       "model_id": "915d1456fd974bbb9c2f8047bba4b0a0",
       "version_major": 2,
       "version_minor": 0
      },
      "text/plain": [
       "Boruta trials:   0%|          | 0/30 [00:00<?, ?it/s]"
      ]
     },
     "metadata": {},
     "output_type": "display_data"
    },
    {
     "name": "stderr",
     "output_type": "stream",
     "text": [
      "/home/wpartycja/.local/lib/python3.10/site-packages/eBoruta/algorithm.py:431: FutureWarning: The behavior of DataFrame concatenation with empty or all-NA entries is deprecated. In a future version, this will no longer exclude empty or all-NA columns when determining the result dtypes. To retain the old behavior, exclude the relevant entries before the concat operation.\n",
      "  self.features_.imp_history = pd.concat(\n"
     ]
    },
    {
     "name": "stdout",
     "output_type": "stream",
     "text": [
      "Epoch 2000, Accuracy: 82.99%\n",
      "Drift detected at index 2881, input value: 1\n",
      "Drift detected at epoch 2881 → updating features and resetting model\n"
     ]
    },
    {
     "data": {
      "application/vnd.jupyter.widget-view+json": {
       "model_id": "635424f13b674244bd41e7c889e017e5",
       "version_major": 2,
       "version_minor": 0
      },
      "text/plain": [
       "Boruta trials:   0%|          | 0/30 [00:00<?, ?it/s]"
      ]
     },
     "metadata": {},
     "output_type": "display_data"
    },
    {
     "name": "stderr",
     "output_type": "stream",
     "text": [
      "/home/wpartycja/.local/lib/python3.10/site-packages/eBoruta/algorithm.py:431: FutureWarning: The behavior of DataFrame concatenation with empty or all-NA entries is deprecated. In a future version, this will no longer exclude empty or all-NA columns when determining the result dtypes. To retain the old behavior, exclude the relevant entries before the concat operation.\n",
      "  self.features_.imp_history = pd.concat(\n"
     ]
    },
    {
     "name": "stdout",
     "output_type": "stream",
     "text": [
      "Epoch 3000, Accuracy: 83.22%\n"
     ]
    },
    {
     "data": {
      "application/vnd.jupyter.widget-view+json": {
       "model_id": "42c9b36e31b74e1c948d16bed91ca674",
       "version_major": 2,
       "version_minor": 0
      },
      "text/plain": [
       "Boruta trials:   0%|          | 0/30 [00:00<?, ?it/s]"
      ]
     },
     "metadata": {},
     "output_type": "display_data"
    },
    {
     "name": "stderr",
     "output_type": "stream",
     "text": [
      "/home/wpartycja/.local/lib/python3.10/site-packages/eBoruta/algorithm.py:431: FutureWarning: The behavior of DataFrame concatenation with empty or all-NA entries is deprecated. In a future version, this will no longer exclude empty or all-NA columns when determining the result dtypes. To retain the old behavior, exclude the relevant entries before the concat operation.\n",
      "  self.features_.imp_history = pd.concat(\n"
     ]
    },
    {
     "name": "stdout",
     "output_type": "stream",
     "text": [
      "Epoch 4000, Accuracy: 77.49%\n",
      "Epoch 5000, Accuracy: 73.89%\n",
      "Drift detected at index 5442, input value: 0\n",
      "Drift detected at epoch 5442 → updating features and resetting model\n"
     ]
    },
    {
     "data": {
      "application/vnd.jupyter.widget-view+json": {
       "model_id": "d09c5c009c954e049aae34b7fc1f3977",
       "version_major": 2,
       "version_minor": 0
      },
      "text/plain": [
       "Boruta trials:   0%|          | 0/30 [00:00<?, ?it/s]"
      ]
     },
     "metadata": {},
     "output_type": "display_data"
    },
    {
     "name": "stderr",
     "output_type": "stream",
     "text": [
      "/home/wpartycja/.local/lib/python3.10/site-packages/eBoruta/algorithm.py:431: FutureWarning: The behavior of DataFrame concatenation with empty or all-NA entries is deprecated. In a future version, this will no longer exclude empty or all-NA columns when determining the result dtypes. To retain the old behavior, exclude the relevant entries before the concat operation.\n",
      "  self.features_.imp_history = pd.concat(\n"
     ]
    },
    {
     "name": "stdout",
     "output_type": "stream",
     "text": [
      "Drift detected at index 5795, input value: 1\n",
      "Drift detected at epoch 5795 → updating features and resetting model\n"
     ]
    },
    {
     "data": {
      "application/vnd.jupyter.widget-view+json": {
       "model_id": "b588d6bc2e054e10acc53a565398fd45",
       "version_major": 2,
       "version_minor": 0
      },
      "text/plain": [
       "Boruta trials:   0%|          | 0/30 [00:00<?, ?it/s]"
      ]
     },
     "metadata": {},
     "output_type": "display_data"
    },
    {
     "name": "stderr",
     "output_type": "stream",
     "text": [
      "/home/wpartycja/.local/lib/python3.10/site-packages/eBoruta/algorithm.py:431: FutureWarning: The behavior of DataFrame concatenation with empty or all-NA entries is deprecated. In a future version, this will no longer exclude empty or all-NA columns when determining the result dtypes. To retain the old behavior, exclude the relevant entries before the concat operation.\n",
      "  self.features_.imp_history = pd.concat(\n"
     ]
    },
    {
     "data": {
      "application/vnd.jupyter.widget-view+json": {
       "model_id": "8513f95939d5449a8bc6afaf938793c3",
       "version_major": 2,
       "version_minor": 0
      },
      "text/plain": [
       "Boruta trials:   0%|          | 0/30 [00:00<?, ?it/s]"
      ]
     },
     "metadata": {},
     "output_type": "display_data"
    },
    {
     "name": "stderr",
     "output_type": "stream",
     "text": [
      "/home/wpartycja/.local/lib/python3.10/site-packages/eBoruta/algorithm.py:431: FutureWarning: The behavior of DataFrame concatenation with empty or all-NA entries is deprecated. In a future version, this will no longer exclude empty or all-NA columns when determining the result dtypes. To retain the old behavior, exclude the relevant entries before the concat operation.\n",
      "  self.features_.imp_history = pd.concat(\n"
     ]
    },
    {
     "name": "stdout",
     "output_type": "stream",
     "text": [
      "Epoch 6000, Accuracy: 71.23%\n",
      "Epoch 7000, Accuracy: 68.44%\n"
     ]
    },
    {
     "data": {
      "application/vnd.jupyter.widget-view+json": {
       "model_id": "da0ef01febba4cabbbda71053461d69e",
       "version_major": 2,
       "version_minor": 0
      },
      "text/plain": [
       "Boruta trials:   0%|          | 0/30 [00:00<?, ?it/s]"
      ]
     },
     "metadata": {},
     "output_type": "display_data"
    },
    {
     "name": "stderr",
     "output_type": "stream",
     "text": [
      "/home/wpartycja/.local/lib/python3.10/site-packages/eBoruta/algorithm.py:431: FutureWarning: The behavior of DataFrame concatenation with empty or all-NA entries is deprecated. In a future version, this will no longer exclude empty or all-NA columns when determining the result dtypes. To retain the old behavior, exclude the relevant entries before the concat operation.\n",
      "  self.features_.imp_history = pd.concat(\n"
     ]
    },
    {
     "name": "stdout",
     "output_type": "stream",
     "text": [
      "Feature importance changed at epoch 8000.\n",
      "Epoch 8000, Accuracy: 66.23%\n",
      "Drift detected at index 8197, input value: 1\n",
      "Drift detected at epoch 8197 → updating features and resetting model\n"
     ]
    },
    {
     "data": {
      "application/vnd.jupyter.widget-view+json": {
       "model_id": "85bb4c76686f48dcbc3df539784020d8",
       "version_major": 2,
       "version_minor": 0
      },
      "text/plain": [
       "Boruta trials:   0%|          | 0/30 [00:00<?, ?it/s]"
      ]
     },
     "metadata": {},
     "output_type": "display_data"
    },
    {
     "name": "stderr",
     "output_type": "stream",
     "text": [
      "/home/wpartycja/.local/lib/python3.10/site-packages/eBoruta/algorithm.py:431: FutureWarning: The behavior of DataFrame concatenation with empty or all-NA entries is deprecated. In a future version, this will no longer exclude empty or all-NA columns when determining the result dtypes. To retain the old behavior, exclude the relevant entries before the concat operation.\n",
      "  self.features_.imp_history = pd.concat(\n"
     ]
    },
    {
     "name": "stdout",
     "output_type": "stream",
     "text": [
      "Drift detected at index 8998, input value: 0\n",
      "Drift detected at epoch 8998 → updating features and resetting model\n"
     ]
    },
    {
     "data": {
      "application/vnd.jupyter.widget-view+json": {
       "model_id": "3f84dbf77cc64f72b499af2ebd6e9133",
       "version_major": 2,
       "version_minor": 0
      },
      "text/plain": [
       "Boruta trials:   0%|          | 0/30 [00:00<?, ?it/s]"
      ]
     },
     "metadata": {},
     "output_type": "display_data"
    },
    {
     "name": "stderr",
     "output_type": "stream",
     "text": [
      "/home/wpartycja/.local/lib/python3.10/site-packages/eBoruta/algorithm.py:431: FutureWarning: The behavior of DataFrame concatenation with empty or all-NA entries is deprecated. In a future version, this will no longer exclude empty or all-NA columns when determining the result dtypes. To retain the old behavior, exclude the relevant entries before the concat operation.\n",
      "  self.features_.imp_history = pd.concat(\n"
     ]
    },
    {
     "name": "stdout",
     "output_type": "stream",
     "text": [
      "Epoch 9000, Accuracy: 68.15%\n",
      "\n",
      "\n",
      "           Precision   Recall   F1       Support  \n",
      "                                                  \n",
      "       0      70.89%   59.68%   64.80%      4888  \n",
      "       1      65.88%   76.06%   70.61%      5004  \n",
      "                                                  \n",
      "   Macro      68.38%   67.87%   67.70%            \n",
      "   Micro      67.96%   67.96%   67.96%            \n",
      "Weighted      68.36%   67.96%   67.74%            \n",
      "\n",
      "                 67.96% accuracy                  \n",
      "Plot saved to ./plots/boruta/161_seed/2000_window/boruta_dynamic.png\n"
     ]
    },
    {
     "data": {
      "image/png": "[encoded data removed]",
      "text/plain": [
       "<Figure size 1000x500 with 1 Axes>"
      ]
     },
     "metadata": {},
     "output_type": "display_data"
    }
   ],
   "source": [
    "strategy = 'boruta_dynamic'\n",
    "n_history = 2000\n",
    "seed = 161\n",
    "feature_selector = 'boruta'\n",
    "\n",
    "generator = FeatureImportanceChangeGenerator(20, 5, importance_change_interval=10, random_seed=seed)\n",
    "\n",
    "if strategy in ['boruta_initial_only', 'boruta_dynamic', 'alpha_dynamic']:\n",
    "    plot_path = f'./plots/{feature_selector}/{seed}_seed/{n_history}_window/{strategy}.png'\n",
    "else:\n",
    "    plot_path = f'./plots/{feature_selector}/{seed}_seed/{strategy}.png'\n",
    "\n",
    "\n",
    "\n",
    "runner = DriftDetectionRunner(generator, adwin, feature_selector, n_history=2000, plot_path=plot_path)\n",
    "runner.run(mode=strategy)"
   ]
  },
  {
   "cell_type": "code",
   "execution_count": 11,
   "id": "d5f12840",
   "metadata": {},
   "outputs": [
    {
     "data": {
      "text/plain": [
       "161"
      ]
     },
     "execution_count": 11,
     "metadata": {},
     "output_type": "execute_result"
    }
   ],
   "source": [
    "generator.random_seed"
   ]
  },
  {
   "cell_type": "code",
   "execution_count": null,
   "id": "6f8e28ff",
   "metadata": {},
   "outputs": [],
   "source": []
  }
 ],
 "metadata": {
  "kernelspec": {
   "display_name": "Python 3",
   "language": "python",
   "name": "python3"
  },
  "language_info": {
   "codemirror_mode": {
    "name": "ipython",
    "version": 3
   },
   "file_extension": ".py",
   "mimetype": "text/x-python",
   "name": "python",
   "nbconvert_exporter": "python",
   "pygments_lexer": "ipython3",
   "version": "3.10.12"
  }
 },
 "nbformat": 4,
 "nbformat_minor": 5
}
